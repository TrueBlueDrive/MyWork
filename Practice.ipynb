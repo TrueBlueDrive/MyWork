{
  "nbformat": 4,
  "nbformat_minor": 0,
  "metadata": {
    "colab": {
      "name": "Practice.ipynb",
      "provenance": [],
      "authorship_tag": "ABX9TyMk3rOS32qXtq6AptmoF3YB",
      "include_colab_link": true
    },
    "kernelspec": {
      "name": "python3",
      "display_name": "Python 3"
    },
    "language_info": {
      "name": "python"
    }
  },
  "cells": [
    {
      "cell_type": "markdown",
      "metadata": {
        "id": "view-in-github",
        "colab_type": "text"
      },
      "source": [
        "<a href=\"https://colab.research.google.com/github/TrueBlueDrive/MyWork/blob/main/Practice.ipynb\" target=\"_parent\"><img src=\"https://colab.research.google.com/assets/colab-badge.svg\" alt=\"Open In Colab\"/></a>"
      ]
    },
    {
      "cell_type": "code",
      "execution_count": null,
      "metadata": {
        "id": "39ERsbjQKKN8"
      },
      "outputs": [],
      "source": [
        "from collections import defaultdict\n",
        "MOD = (int)(1e9 + 7)\n",
        "\n",
        "class Solution(object):    \n",
        "    def knightDialer(self, N):\n",
        "        \"\"\"\n",
        "        :type N: int\n",
        "        :rtype: int\n",
        "        \"\"\"\n",
        "        \n",
        "        memo = defaultdict(tuple) # if not present, None.\n",
        "        \n",
        "        def lookup(i, j, n):\n",
        "            \"\"\" enumerate distinct paths from (i, j) position \n",
        "                along distinct n numbers. \"\"\"\n",
        "            # out of cases\n",
        "            if (i < 0) or (j < 0) or (i >= 4) or (j >= 3) or ((i == 3) and (j != 1)): \n",
        "                # if the knight hops outside of the dial pad, return 0.\n",
        "                return 0\n",
        "            \n",
        "            if n == 1:  # base cases.\n",
        "                return 1\n",
        "            \n",
        "            if memo[(i, j, n)]: # check overlapping subproblems.\n",
        "                return memo[(i, j, n)]\n",
        "            \n",
        "            local = lookup(i - 1, j - 2, n - 1) % MOD + \\\n",
        "                    lookup(i - 2, j - 1, n - 1) % MOD + \\\n",
        "                    lookup(i - 2, j + 1, n - 1) % MOD + \\\n",
        "                    lookup(i - 1, j + 2, n - 1) % MOD + \\\n",
        "                    lookup(i + 1, j + 2, n - 1) % MOD + \\\n",
        "                    lookup(i + 2, j + 1, n - 1) % MOD + \\\n",
        "                    lookup(i + 2, j - 1, n - 1) % MOD + \\\n",
        "                    lookup(i + 1, j - 2, n - 1) % MOD\n",
        "            \n",
        "            memo[(i, j, n)] = local # memo\n",
        "            return local\n",
        "        \n",
        "        ans = 0\n",
        "        for i in range(4):\n",
        "            for j in range(3):\n",
        "                ans = (ans + lookup(i, j, N)) % MOD\n",
        "        \n",
        "        return ans\n",
        "        \n",
        "sol = Solution()"
      ]
    },
    {
      "cell_type": "code",
      "source": [
        "# Program to add two matrices using nested loop\n",
        " \n",
        "X = [[1,2,3],\n",
        "    [4 ,5,6],\n",
        "    [7 ,8,9]]\n",
        " \n",
        "Y = [[9,8,7],\n",
        "    [6,5,4],\n",
        "    [3,2,1]]\n",
        " \n",
        " \n",
        "result = [[0,0,0],\n",
        "        [0,0,0],\n",
        "        [0,0,0]]\n",
        " \n",
        "# iterate through rows\n",
        "print (len(X))\n",
        "print (len(X[0]))\n",
        "for i in range(len(X)):  \n",
        "# iterate through columns\n",
        "    for j in range(len(X[0])):\n",
        "        result[i][j] = X[i][j] + Y[i][j]\n",
        " \n",
        "for r in result:\n",
        "    print(r)"
      ],
      "metadata": {
        "colab": {
          "base_uri": "https://localhost:8080/"
        },
        "id": "fNgCABdymi1j",
        "outputId": "d383a3f6-b54a-4b3d-c3e8-9ac0effb13cb"
      },
      "execution_count": 6,
      "outputs": [
        {
          "output_type": "stream",
          "name": "stdout",
          "text": [
            "3\n",
            "3\n",
            "[10, 10, 10]\n",
            "[10, 10, 10]\n",
            "[10, 10, 10]\n"
          ]
        }
      ]
    },
    {
      "cell_type": "code",
      "source": [
        "# Python3 program to convert 12\n",
        "# hour to 24 hour format\n",
        "def print24(s):\n",
        " \n",
        "    # Get hours\n",
        "    h1 = ord(s[1]) - ord('0')\n",
        "    h2 = ord(s[0]) - ord('0')\n",
        "    hh = (h2 * 10 + h1 % 10)\n",
        "  \n",
        "    # If time is in \"AM\"\n",
        "    if (s[8] == 'A'):\n",
        "        if (hh == 12):\n",
        "            print('00', end = '')\n",
        "             \n",
        "            for i in range(2, 8):\n",
        "                print(s[i], end = '')\n",
        " \n",
        "        else:\n",
        "            for i in range(0, 8):\n",
        "                print(s[i], end = '')\n",
        "  \n",
        "    # If time is in \"PM\"\n",
        "    else:\n",
        "        if (hh == 12):\n",
        "            print(\"12\", end = '')\n",
        "             \n",
        "            for i in range(2, 8):\n",
        "                print(s[i], end = '')\n",
        "         \n",
        "        else:\n",
        "            hh = hh + 12;\n",
        "            print(hh, end = '')\n",
        "             \n",
        "            for i in range(2, 8):\n",
        "                print(s[i], end = '')\n",
        "             \n",
        "# Driver code          \n",
        "if __name__==\"__main__\":\n",
        " \n",
        "   s = \"07:05:45PM\"\n",
        "    \n",
        "   print24(s)"
      ],
      "metadata": {
        "colab": {
          "base_uri": "https://localhost:8080/"
        },
        "id": "XFx8jsT3ndk5",
        "outputId": "381fc178-76e4-42b9-aeea-9c583ba3e384"
      },
      "execution_count": 7,
      "outputs": [
        {
          "output_type": "stream",
          "name": "stdout",
          "text": [
            "19:05:45"
          ]
        }
      ]
    },
    {
      "cell_type": "code",
      "source": [
        "# creating an empty list\n",
        "lst = []\n",
        " \n",
        "# number of elements as input\n",
        "n = int(input(\"Enter number of elements : \"))\n",
        " \n",
        "# iterating till the range\n",
        "for i in range(0, n):\n",
        "    ele = int(input())\n",
        " \n",
        "    lst.append(ele) # adding the element\n",
        "     \n",
        "print(lst)"
      ],
      "metadata": {
        "colab": {
          "base_uri": "https://localhost:8080/"
        },
        "id": "b3cURvoxn5kT",
        "outputId": "650d151d-5c81-44a0-8c31-3c68b2f1faff"
      },
      "execution_count": 8,
      "outputs": [
        {
          "output_type": "stream",
          "name": "stdout",
          "text": [
            "Enter number of elements : 3\n",
            "1\n",
            "2\n",
            "3\n",
            "[1, 2, 3]\n"
          ]
        }
      ]
    },
    {
      "cell_type": "code",
      "source": [
        " #Python3 program to print reverse\n",
        "# of words in a string.\n",
        " \n",
        " \n",
        "def wordReverse(str):\n",
        "    i = len(str)-1\n",
        "    start = end = i+1\n",
        "    result = ''\n",
        " \n",
        "    while i >= 0:\n",
        "        if str[i] == ' ':\n",
        "            start = i+1\n",
        "            while start != end:\n",
        "                result += str[start]\n",
        "                start += 1\n",
        "            result += ' '\n",
        "            end = i\n",
        "        i -= 1\n",
        "    start = 0\n",
        "    while start != end:\n",
        "        result += str[start]\n",
        "        start += 1\n",
        "    return result\n",
        " \n",
        " \n",
        "# Driver Code\n",
        "#str = 'I AM A GEEK'\n",
        "str = input(\"Enter the strings\")\n",
        "print(wordReverse(str))\n",
        " \n"
      ],
      "metadata": {
        "colab": {
          "base_uri": "https://localhost:8080/"
        },
        "id": "If7aX495oQ7Q",
        "outputId": "b5240491-6d03-45d3-97c5-2b2f154e3cec"
      },
      "execution_count": 10,
      "outputs": [
        {
          "output_type": "stream",
          "name": "stdout",
          "text": [
            "Enter the stringI am God\n",
            "God am I\n"
          ]
        }
      ]
    },
    {
      "cell_type": "code",
      "source": [
        "# Python program to find all string\n",
        "# which are equal to  length k\n",
        "\n",
        "# function find string greater than length k\n",
        "def string_k(k, str):\n",
        "\t\n",
        "\t# create the empty string\n",
        "\tstring = []\n",
        "\t\n",
        "\t# split the string where space is comes\n",
        "\ttext = str.split(\" \")\n",
        "\t\n",
        "\t# iterate the loop till every substring\n",
        "\tfor x in text:\n",
        "\t\t\n",
        "\t\t# if length of current sub string\n",
        "\t\t# is greater than k then\n",
        "\t\tif len(x) == k:\n",
        "\t\t\t\n",
        "\t\t\t# append this sub string in\n",
        "\t\t\t# string list\n",
        "\t\t\tstring.append(x)\n",
        "\t\t\t\n",
        "\t# return string list\n",
        "\treturn string\n",
        "\n",
        "\n",
        "# Driver Program\t\n",
        "k = int(input(\"Enter the string length\"))\n",
        "str = input(\"Enter the String\")\n",
        "print(string_k(k, str))\n"
      ],
      "metadata": {
        "colab": {
          "base_uri": "https://localhost:8080/"
        },
        "id": "yYpJv4L-pfqj",
        "outputId": "373d7348-f78a-43d9-fa04-e37e3569bf95"
      },
      "execution_count": 16,
      "outputs": [
        {
          "output_type": "stream",
          "name": "stdout",
          "text": [
            "Enter the string length3\n",
            "Enter the Stringhow are you doing Rahul\n",
            "['how', 'are', 'you']\n"
          ]
        }
      ]
    },
    {
      "cell_type": "code",
      "source": [
        "# Python program to find the most occurring\n",
        "# character and its count\n",
        "from collections import Counter\n",
        "\n",
        "def find_most_occ_char(input):\n",
        "\n",
        "\t# now create dictionary using counter method\n",
        "\t# which will have strings as key and their\n",
        "\t# frequencies as value\n",
        "\twc = Counter(input)\n",
        "\n",
        "\t# Finding maximum occurrence of a character\n",
        "\t\t# and get the index of it.\n",
        "\ts = max(wc.values())\n",
        "\ti = wc.values().index(s)\n",
        "\t\n",
        "\tprint (wc.items()[i])\n",
        "\n",
        "# Driver program\n",
        "if __name__ == \"__main__\":\n",
        "\tinput = 'geeksforgeeks'\n",
        "\tfind_most_occ_char(input)\n"
      ],
      "metadata": {
        "colab": {
          "base_uri": "https://localhost:8080/",
          "height": 322
        },
        "id": "ZfdcGuPjqxyD",
        "outputId": "9bb08f61-6382-48b6-e8cf-4a7ff95db6d1"
      },
      "execution_count": 20,
      "outputs": [
        {
          "output_type": "error",
          "ename": "AttributeError",
          "evalue": "ignored",
          "traceback": [
            "\u001b[0;31m---------------------------------------------------------------------------\u001b[0m",
            "\u001b[0;31mAttributeError\u001b[0m                            Traceback (most recent call last)",
            "\u001b[0;32m<ipython-input-20-ba33b3135b5a>\u001b[0m in \u001b[0;36m<module>\u001b[0;34m()\u001b[0m\n\u001b[1;32m     20\u001b[0m \u001b[0;32mif\u001b[0m \u001b[0m__name__\u001b[0m \u001b[0;34m==\u001b[0m \u001b[0;34m\"__main__\"\u001b[0m\u001b[0;34m:\u001b[0m\u001b[0;34m\u001b[0m\u001b[0;34m\u001b[0m\u001b[0m\n\u001b[1;32m     21\u001b[0m         \u001b[0minput\u001b[0m \u001b[0;34m=\u001b[0m \u001b[0;34m'geeksforgeeks'\u001b[0m\u001b[0;34m\u001b[0m\u001b[0;34m\u001b[0m\u001b[0m\n\u001b[0;32m---> 22\u001b[0;31m         \u001b[0mfind_most_occ_char\u001b[0m\u001b[0;34m(\u001b[0m\u001b[0minput\u001b[0m\u001b[0;34m)\u001b[0m\u001b[0;34m\u001b[0m\u001b[0;34m\u001b[0m\u001b[0m\n\u001b[0m",
            "\u001b[0;32m<ipython-input-20-ba33b3135b5a>\u001b[0m in \u001b[0;36mfind_most_occ_char\u001b[0;34m(input)\u001b[0m\n\u001b[1;32m     13\u001b[0m                 \u001b[0;31m# and get the index of it.\u001b[0m\u001b[0;34m\u001b[0m\u001b[0;34m\u001b[0m\u001b[0;34m\u001b[0m\u001b[0m\n\u001b[1;32m     14\u001b[0m         \u001b[0ms\u001b[0m \u001b[0;34m=\u001b[0m \u001b[0mmax\u001b[0m\u001b[0;34m(\u001b[0m\u001b[0mwc\u001b[0m\u001b[0;34m.\u001b[0m\u001b[0mvalues\u001b[0m\u001b[0;34m(\u001b[0m\u001b[0;34m)\u001b[0m\u001b[0;34m)\u001b[0m\u001b[0;34m\u001b[0m\u001b[0;34m\u001b[0m\u001b[0m\n\u001b[0;32m---> 15\u001b[0;31m         \u001b[0mi\u001b[0m \u001b[0;34m=\u001b[0m \u001b[0mwc\u001b[0m\u001b[0;34m.\u001b[0m\u001b[0mvalues\u001b[0m\u001b[0;34m(\u001b[0m\u001b[0;34m)\u001b[0m\u001b[0;34m.\u001b[0m\u001b[0mindex\u001b[0m\u001b[0;34m(\u001b[0m\u001b[0ms\u001b[0m\u001b[0;34m)\u001b[0m\u001b[0;34m\u001b[0m\u001b[0;34m\u001b[0m\u001b[0m\n\u001b[0m\u001b[1;32m     16\u001b[0m \u001b[0;34m\u001b[0m\u001b[0m\n\u001b[1;32m     17\u001b[0m         \u001b[0mprint\u001b[0m \u001b[0;34m(\u001b[0m\u001b[0mwc\u001b[0m\u001b[0;34m.\u001b[0m\u001b[0mitems\u001b[0m\u001b[0;34m(\u001b[0m\u001b[0;34m)\u001b[0m\u001b[0;34m[\u001b[0m\u001b[0mi\u001b[0m\u001b[0;34m]\u001b[0m\u001b[0;34m)\u001b[0m\u001b[0;34m\u001b[0m\u001b[0;34m\u001b[0m\u001b[0m\n",
            "\u001b[0;31mAttributeError\u001b[0m: 'dict_values' object has no attribute 'index'"
          ]
        }
      ]
    },
    {
      "cell_type": "code",
      "source": [
        "# Python program to get\n",
        "# dictionary keys as list\n",
        "\n",
        "def getList(dict):\n",
        "\treturn dict.keys()\n",
        "\t\n",
        "# Driver program\n",
        "dict = {1:'Geeks', 2:'for', 3:'geeks'}\n",
        "print(getList(dict))\n"
      ],
      "metadata": {
        "colab": {
          "base_uri": "https://localhost:8080/"
        },
        "id": "1LwxUh3Qr3UY",
        "outputId": "75e8845d-34de-48ec-b314-b4bac072db19"
      },
      "execution_count": 21,
      "outputs": [
        {
          "output_type": "stream",
          "name": "stdout",
          "text": [
            "dict_keys([1, 2, 3])\n"
          ]
        }
      ]
    },
    {
      "cell_type": "code",
      "source": [
        "# Python program to get\n",
        "# dictionary keys as list\n",
        "\n",
        "def getList(dict):\n",
        "\tlist = []\n",
        "\tfor key in dict.keys():\n",
        "\t\tlist.append(key)\n",
        "\t\t\n",
        "\treturn list\n",
        "\t\n",
        "# Driver program\n",
        "dict = {1:'Geeks', 2:'for', 3:'geeks'}\n",
        "print(getList(dict))\n"
      ],
      "metadata": {
        "colab": {
          "base_uri": "https://localhost:8080/"
        },
        "id": "lqb0Izfnr_4Z",
        "outputId": "c60e5718-ca5d-44df-c1ff-493dad226fa1"
      },
      "execution_count": 22,
      "outputs": [
        {
          "output_type": "stream",
          "name": "stdout",
          "text": [
            "[1, 2, 3]\n"
          ]
        }
      ]
    },
    {
      "cell_type": "code",
      "source": [
        "# Python3 code to demonstrate working of\n",
        "# Get values of particular key in list of dictionaries\n",
        "# Using list comprehension\n",
        "\n",
        "# initializing list\n",
        "test_list = [{'gfg' : 1, 'is' : 2, 'good' : 3},\n",
        "\t\t\t{'gfg' : 2}, {'best' : 3, 'gfg' : 4}]\n",
        "\n",
        "# printing original list\n",
        "print(\"The original list is : \" + str(test_list))\n",
        "\n",
        "# Using list comprehension\n",
        "# Get values of particular key in list of dictionaries\n",
        "res = [ sub['gfg'] for sub in test_list ]\n",
        "\n",
        "# printing result\n",
        "print(\"The values corresponding to key : \" + str(res))\n"
      ],
      "metadata": {
        "id": "4_zzb9szsI3R"
      },
      "execution_count": null,
      "outputs": []
    },
    {
      "cell_type": "code",
      "source": [
        "# Python program to find all string\n",
        "# which are greater than given length k\n",
        "\n",
        "# function find string greater than length k\n",
        "def string_k(k, str):\n",
        "\t\n",
        "\t# create the empty string\n",
        "\tstring = []\n",
        "\t\n",
        "\t# split the string where space is comes\n",
        "\ttext = str.split(\" \")\n",
        "\t\n",
        "\t# iterate the loop till every substring\n",
        "\tfor x in text:\n",
        "\t\t\n",
        "\t\t# if length of current sub string\n",
        "\t\t# is greater than k then\n",
        "\t\tif len(x) > k:\n",
        "\t\t\t\n",
        "\t\t\t# append this sub string in\n",
        "\t\t\t# string list\n",
        "\t\t\tstring.append(x)\n",
        "\t\t\t\n",
        "\t# return string list\n",
        "\treturn string\n",
        "\n"
      ],
      "metadata": {
        "id": "ZNiI8z7aqL8n"
      },
      "execution_count": null,
      "outputs": []
    },
    {
      "cell_type": "code",
      "source": [
        "# Python3 code to demonstrate working of\n",
        "# Filter dictionaries by values in Kth Key in list\n",
        "# Using loop + conditional statements\n",
        "\n",
        "# initializing list\n",
        "test_list = [{\"Gfg\": 3, \"is\": 5, \"best\": 10},\n",
        "\t\t\t{\"Gfg\": 5, \"is\": 1, \"best\": 1},\n",
        "\t\t\t{\"Gfg\": 8, \"is\": 3, \"best\": 9},\n",
        "\t\t\t{\"Gfg\": 9, \"is\": 9, \"best\": 8},\n",
        "\t\t\t{\"Gfg\": 4, \"is\": 10, \"best\": 7}]\n",
        "\n",
        "# printing original list\n",
        "print(\"The original list is : \" + str(test_list))\n",
        "\n",
        "# initializing search_list\n",
        "search_list = [1, 9, 8, 4, 5]\n",
        "\n",
        "# initializing K\n",
        "K = \"best\"\n",
        "\n",
        "res = []\n",
        "for sub in test_list:\n",
        "\n",
        "\t# checking if Kth key's value present in search_list\n",
        "\tif sub[K] in search_list:\n",
        "\t\tres.append(sub)\n",
        "\n",
        "# printing result\n",
        "print(\"Filtered dictionaries : \" + str(res))\n"
      ],
      "metadata": {
        "id": "I4pa1a_2uJfw"
      },
      "execution_count": null,
      "outputs": []
    },
    {
      "cell_type": "code",
      "source": [
        "# Python3 code to iterate over a list\n",
        "list = [1, 3, 5, 7, 9]\n",
        "\n",
        "# Using for loop\n",
        "for i in list:\n",
        "\tprint(i)\n"
      ],
      "metadata": {
        "colab": {
          "base_uri": "https://localhost:8080/"
        },
        "id": "wMPeJaeyu4KT",
        "outputId": "3a04d8b0-4917-4387-f893-29615d0be736"
      },
      "execution_count": 23,
      "outputs": [
        {
          "output_type": "stream",
          "name": "stdout",
          "text": [
            "1\n",
            "3\n",
            "5\n",
            "7\n",
            "9\n"
          ]
        }
      ]
    },
    {
      "cell_type": "code",
      "source": [
        "# Python code to\n",
        "# demonstrate readlines()\n",
        "\n",
        "L = [\"Geeks\\n\", \"for\\n\", \"Geeks\\n\"]\n",
        "\n",
        "# writing to file\n",
        "file1 = open('myfile.txt', 'w')\n",
        "file1.writelines(L)\n",
        "file1.close()\n",
        "\n",
        "# Using readlines()\n",
        "file1 = open('myfile.txt', 'r')\n",
        "Lines = file1.readlines()\n",
        "\n",
        "count = 0\n",
        "# Strips the newline character\n",
        "for line in Lines:\n",
        "\tcount += 1\n",
        "\tprint(\"Line{}: {}\".format(count, line.strip()))\n"
      ],
      "metadata": {
        "colab": {
          "base_uri": "https://localhost:8080/"
        },
        "id": "RwUpJW7wvEAC",
        "outputId": "bb3af7ff-9558-46ec-f5eb-b54b1b22ef22"
      },
      "execution_count": 24,
      "outputs": [
        {
          "output_type": "stream",
          "name": "stdout",
          "text": [
            "Line1: Geeks\n",
            "Line2: for\n",
            "Line3: Geeks\n"
          ]
        }
      ]
    },
    {
      "cell_type": "code",
      "source": [
        "# Python program to\n",
        "# demonstrate with\n",
        "# statement\n",
        "\n",
        "L = [\"Geeks\\n\", \"for\\n\", \"Geeks\\n\"]\n",
        "\n",
        "\n",
        "# Writing to file\n",
        "with open(\"myfile.txt\", \"w\") as fp:\n",
        "\tfp.writelines(L)\n",
        "\n",
        "\n",
        "# using readlines()\n",
        "count = 0\n",
        "print(\"Using readlines()\")\n",
        "\n",
        "with open(\"myfile.txt\") as fp:\n",
        "\tLines = fp.readlines()\n",
        "\tfor line in Lines:\n",
        "\t\tcount += 1\n",
        "\t\tprint(\"Line{}: {}\".format(count, line.strip()))\n",
        "\n",
        "\n",
        "# Using readline()\n",
        "count = 0\n",
        "print(\"\\nUsing readline()\")\n",
        "\n",
        "with open(\"myfile.txt\") as fp:\n",
        "\twhile True:\n",
        "\t\tcount += 1\n",
        "\t\tline = fp.readline()\n",
        "\n",
        "\t\tif not line:\n",
        "\t\t\tbreak\n",
        "\t\tprint(\"Line{}: {}\".format(count, line.strip()))\n",
        "\n",
        "\n",
        "# Using for loop\n",
        "count = 0\n",
        "print(\"\\nUsing for loop\")\n",
        "\n",
        "with open(\"myfile.txt\") as fp:\n",
        "\tfor line in fp:\n",
        "\t\tcount += 1\n",
        "\t\tprint(\"Line{}: {}\".format(count, line.strip()))\n"
      ],
      "metadata": {
        "colab": {
          "base_uri": "https://localhost:8080/"
        },
        "id": "fAr4n0tJvbCl",
        "outputId": "aa35a3cd-b650-4f00-f644-25abe4bfe5b1"
      },
      "execution_count": 25,
      "outputs": [
        {
          "output_type": "stream",
          "name": "stdout",
          "text": [
            "Using readlines()\n",
            "Line1: Geeks\n",
            "Line2: for\n",
            "Line3: Geeks\n",
            "\n",
            "Using readline()\n",
            "Line1: Geeks\n",
            "Line2: for\n",
            "Line3: Geeks\n",
            "\n",
            "Using for loop\n",
            "Line1: Geeks\n",
            "Line2: for\n",
            "Line3: Geeks\n"
          ]
        }
      ]
    },
    {
      "cell_type": "code",
      "source": [
        "# Python program to demonstrate\n",
        "# passing dictionary as argument\n",
        "\n",
        "\n",
        "# A function that takes dictionary\n",
        "# as an argument\n",
        "def func(d):\n",
        "\t\n",
        "\tfor key in d:\n",
        "\t\tprint(\"key:\", key, \"Value:\", d[key])\n",
        "\t\t\n",
        "# Driver's code\n",
        "D = {'a':1, 'b':2, 'c':3}\n",
        "func(D)\n"
      ],
      "metadata": {
        "id": "s41QzVn3vrge"
      },
      "execution_count": null,
      "outputs": []
    },
    {
      "cell_type": "code",
      "source": [
        "# Function to check if binary representation of\n",
        "# a number is pallindrome or not\n",
        "\n",
        "def binaryPallindrome(num):\n",
        "\n",
        "\t# convert number into binary\n",
        "\tbinary = bin(num)\n",
        "\n",
        "\t# skip first two characters of string\n",
        "\t# because bin function appends '0b' as\n",
        "\t# prefix in binary representation of\n",
        "\t# a number\n",
        "\tbinary = binary[2:]\n",
        "\n",
        "\t# now reverse binary string and compare\n",
        "\t# it with original\n",
        "\treturn binary == binary[-1::-1]\n",
        "\n",
        "# Driver program\n",
        "if __name__ == \"__main__\":\n",
        "\tnum = 9\n",
        "\tprint (binaryPallindrome(num))\n"
      ],
      "metadata": {
        "colab": {
          "base_uri": "https://localhost:8080/"
        },
        "id": "jxFc-I-Qz3P4",
        "outputId": "c5244c3f-dbe3-4a46-f4fb-17256b975f99"
      },
      "execution_count": 27,
      "outputs": [
        {
          "output_type": "stream",
          "name": "stdout",
          "text": [
            "True\n"
          ]
        }
      ]
    },
    {
      "cell_type": "code",
      "source": [
        "# Simple python program to count numbers with\n",
        "# last digit as k in given range.\n",
        "\n",
        "# Returns count of numbers with k as last\n",
        "# digit.\n",
        "def counLastDigitK(low, high, k):\n",
        "\tcount = 0\n",
        "\tfor i in range(low, high+1):\n",
        "\t\tif (i % 10 == k):\n",
        "\t\t\tcount+=1\n",
        "\treturn count\n",
        "\n",
        "\n",
        "# Driver Program\n",
        "low = 3\n",
        "high = 35\n",
        "k = 3\n",
        "print(counLastDigitK(low, high, k))\n",
        "\n",
        "\n"
      ],
      "metadata": {
        "colab": {
          "base_uri": "https://localhost:8080/"
        },
        "id": "pYdFbSTt0HdM",
        "outputId": "94c35e3f-aef1-46b9-e974-5f0aae548c13"
      },
      "execution_count": 32,
      "outputs": [
        {
          "output_type": "stream",
          "name": "stdout",
          "text": [
            "4\n"
          ]
        }
      ]
    },
    {
      "cell_type": "code",
      "source": [
        "# Python 3 program to\n",
        "# check the number is\n",
        "# divisible by all\n",
        "# digits are not.\n",
        "\n",
        "# Function to check\n",
        "# the divisibility\n",
        "# of the number by\n",
        "# its digit.\n",
        "def checkDivisibility(n, digit) :\n",
        "\t\n",
        "\t# If the digit divides the\n",
        "\t# number then return true\n",
        "\t# else return false.\n",
        "\treturn (digit != 0 and n % digit == 0)\n",
        "\t\n",
        "# Function to check if\n",
        "# all digits of n divide\n",
        "# it or not\n",
        "def allDigitsDivide( n) :\n",
        "\t\n",
        "\ttemp = n\n",
        "\twhile (temp > 0) :\n",
        "\t\t\n",
        "\t\t# Taking the digit of\n",
        "\t\t# the number into digit\n",
        "\t\t# var.\n",
        "\t\tdigit = temp % 10\n",
        "\t\tif ((checkDivisibility(n, digit)) == False) :\n",
        "\t\t\treturn False\n",
        "\n",
        "\t\ttemp = temp // 10\n",
        "\t\n",
        "\treturn True\n",
        "\n",
        "# Driver function\n",
        "n = 128\n",
        "\n",
        "if (allDigitsDivide(n)) :\n",
        "\tprint(\"Yes\")\n",
        "else :\n",
        "\tprint(\"No\" )\n",
        "\t\n",
        "# This code is contributed by Nikita Tiwari.\n"
      ],
      "metadata": {
        "colab": {
          "base_uri": "https://localhost:8080/"
        },
        "id": "16XXqfst1QfW",
        "outputId": "550c1643-dc5c-4779-c1cc-f7b484eb8e93"
      },
      "execution_count": 33,
      "outputs": [
        {
          "output_type": "stream",
          "name": "stdout",
          "text": [
            "Yes\n"
          ]
        }
      ]
    },
    {
      "cell_type": "code",
      "source": [
        "# Python code to find smallest K-digit\n",
        "# number divisible by X\n",
        "\n",
        "def answer(X, K):\n",
        "\t\n",
        "\t# Computing MAX\n",
        "\tMIN = pow(10, K-1)\n",
        "\t\n",
        "\tif(MIN%X == 0):\n",
        "\t\treturn (MIN)\n",
        "\t\n",
        "\telse:\n",
        "\t\treturn ((MIN + X) - ((MIN + X) % X))\n",
        "\t\n",
        "\n",
        "X = 83;\n",
        "K = 5;\n",
        "\n",
        "print(answer(X, K));\n",
        "\n",
        "\n"
      ],
      "metadata": {
        "colab": {
          "base_uri": "https://localhost:8080/"
        },
        "id": "6D5hUCJy1pIH",
        "outputId": "5d9ecac3-6555-4395-dd8f-cfc0cc212d04"
      },
      "execution_count": 34,
      "outputs": [
        {
          "output_type": "stream",
          "name": "stdout",
          "text": [
            "10043\n"
          ]
        }
      ]
    },
    {
      "cell_type": "code",
      "source": [
        "#python\n",
        "# Python program to illustrate\n",
        "# enumerate function\n",
        "l1 = [\"eat\",\"sleep\",\"repeat\"]\n",
        "s1 = \"geek\"\n",
        "\n",
        "# creating enumerate objects\n",
        "obj1 = enumerate(l1)\n",
        "obj2 = enumerate(s1)\n",
        "\n",
        "print (\"Return type:\",type(obj1))\n",
        "print (list(enumerate(l1)))\n",
        "\n",
        "# changing start index to 2 from 0\n",
        "print (list(enumerate(s1,2)))\n"
      ],
      "metadata": {
        "colab": {
          "base_uri": "https://localhost:8080/",
          "height": 252
        },
        "id": "9l6Ee16c18WV",
        "outputId": "a990c9bd-b53d-4bae-c68e-3ce4034b8f0a"
      },
      "execution_count": 35,
      "outputs": [
        {
          "output_type": "stream",
          "name": "stdout",
          "text": [
            "Return type: <class 'enumerate'>\n"
          ]
        },
        {
          "output_type": "error",
          "ename": "TypeError",
          "evalue": "ignored",
          "traceback": [
            "\u001b[0;31m---------------------------------------------------------------------------\u001b[0m",
            "\u001b[0;31mTypeError\u001b[0m                                 Traceback (most recent call last)",
            "\u001b[0;32m<ipython-input-35-5cc6cde056e2>\u001b[0m in \u001b[0;36m<module>\u001b[0;34m()\u001b[0m\n\u001b[1;32m     10\u001b[0m \u001b[0;34m\u001b[0m\u001b[0m\n\u001b[1;32m     11\u001b[0m \u001b[0mprint\u001b[0m \u001b[0;34m(\u001b[0m\u001b[0;34m\"Return type:\"\u001b[0m\u001b[0;34m,\u001b[0m\u001b[0mtype\u001b[0m\u001b[0;34m(\u001b[0m\u001b[0mobj1\u001b[0m\u001b[0;34m)\u001b[0m\u001b[0;34m)\u001b[0m\u001b[0;34m\u001b[0m\u001b[0;34m\u001b[0m\u001b[0m\n\u001b[0;32m---> 12\u001b[0;31m \u001b[0mprint\u001b[0m \u001b[0;34m(\u001b[0m\u001b[0mlist\u001b[0m\u001b[0;34m(\u001b[0m\u001b[0menumerate\u001b[0m\u001b[0;34m(\u001b[0m\u001b[0ml1\u001b[0m\u001b[0;34m)\u001b[0m\u001b[0;34m)\u001b[0m\u001b[0;34m)\u001b[0m\u001b[0;34m\u001b[0m\u001b[0;34m\u001b[0m\u001b[0m\n\u001b[0m\u001b[1;32m     13\u001b[0m \u001b[0;34m\u001b[0m\u001b[0m\n\u001b[1;32m     14\u001b[0m \u001b[0;31m# changing start index to 2 from 0\u001b[0m\u001b[0;34m\u001b[0m\u001b[0;34m\u001b[0m\u001b[0;34m\u001b[0m\u001b[0m\n",
            "\u001b[0;31mTypeError\u001b[0m: 'list' object is not callable"
          ]
        }
      ]
    },
    {
      "cell_type": "code",
      "source": [
        "# Python3 program to Split string into characters\n",
        "def split(word):\n",
        "\treturn [char for char in word]\n",
        "\t\n",
        "# Driver code\n",
        "#word = (input(\"Enter the word to split\"))\n",
        "word = \"test\"\n",
        "print(split(word))\n"
      ],
      "metadata": {
        "colab": {
          "base_uri": "https://localhost:8080/"
        },
        "id": "C8jlcv322U3r",
        "outputId": "ccf61689-b6e7-4dcf-b4c3-01167c1e644a"
      },
      "execution_count": 40,
      "outputs": [
        {
          "output_type": "stream",
          "name": "stdout",
          "text": [
            "['t', 'e', 's', 't']\n"
          ]
        }
      ]
    },
    {
      "cell_type": "code",
      "source": [
        "# Python3 program to Split string into characters\n",
        "def split(word):\n",
        "\treturn list(word)\n",
        "\t\n",
        "# Driver code\n",
        "word = 'geeks'\n",
        "print(split(word))\n"
      ],
      "metadata": {
        "colab": {
          "base_uri": "https://localhost:8080/",
          "height": 322
        },
        "id": "QmyeNEsI3GY-",
        "outputId": "f4398872-b694-44b6-9e46-5ca663e51903"
      },
      "execution_count": 42,
      "outputs": [
        {
          "output_type": "error",
          "ename": "TypeError",
          "evalue": "ignored",
          "traceback": [
            "\u001b[0;31m---------------------------------------------------------------------------\u001b[0m",
            "\u001b[0;31mTypeError\u001b[0m                                 Traceback (most recent call last)",
            "\u001b[0;32m<ipython-input-42-818b8fd14bad>\u001b[0m in \u001b[0;36m<module>\u001b[0;34m()\u001b[0m\n\u001b[1;32m      5\u001b[0m \u001b[0;31m# Driver code\u001b[0m\u001b[0;34m\u001b[0m\u001b[0;34m\u001b[0m\u001b[0;34m\u001b[0m\u001b[0m\n\u001b[1;32m      6\u001b[0m \u001b[0mword\u001b[0m \u001b[0;34m=\u001b[0m \u001b[0;34m'geeks'\u001b[0m\u001b[0;34m\u001b[0m\u001b[0;34m\u001b[0m\u001b[0m\n\u001b[0;32m----> 7\u001b[0;31m \u001b[0mprint\u001b[0m\u001b[0;34m(\u001b[0m\u001b[0msplit\u001b[0m\u001b[0;34m(\u001b[0m\u001b[0mword\u001b[0m\u001b[0;34m)\u001b[0m\u001b[0;34m)\u001b[0m\u001b[0;34m\u001b[0m\u001b[0;34m\u001b[0m\u001b[0m\n\u001b[0m",
            "\u001b[0;32m<ipython-input-42-818b8fd14bad>\u001b[0m in \u001b[0;36msplit\u001b[0;34m(word)\u001b[0m\n\u001b[1;32m      1\u001b[0m \u001b[0;31m# Python3 program to Split string into characters\u001b[0m\u001b[0;34m\u001b[0m\u001b[0;34m\u001b[0m\u001b[0;34m\u001b[0m\u001b[0m\n\u001b[1;32m      2\u001b[0m \u001b[0;32mdef\u001b[0m \u001b[0msplit\u001b[0m\u001b[0;34m(\u001b[0m\u001b[0mword\u001b[0m\u001b[0;34m)\u001b[0m\u001b[0;34m:\u001b[0m\u001b[0;34m\u001b[0m\u001b[0;34m\u001b[0m\u001b[0m\n\u001b[0;32m----> 3\u001b[0;31m         \u001b[0;32mreturn\u001b[0m \u001b[0mlist\u001b[0m\u001b[0;34m(\u001b[0m\u001b[0mword\u001b[0m\u001b[0;34m)\u001b[0m\u001b[0;34m\u001b[0m\u001b[0;34m\u001b[0m\u001b[0m\n\u001b[0m\u001b[1;32m      4\u001b[0m \u001b[0;34m\u001b[0m\u001b[0m\n\u001b[1;32m      5\u001b[0m \u001b[0;31m# Driver code\u001b[0m\u001b[0;34m\u001b[0m\u001b[0;34m\u001b[0m\u001b[0;34m\u001b[0m\u001b[0m\n",
            "\u001b[0;31mTypeError\u001b[0m: 'list' object is not callable"
          ]
        }
      ]
    },
    {
      "cell_type": "code",
      "source": [
        ""
      ],
      "metadata": {
        "id": "gG2-Dw1wKQOJ"
      },
      "execution_count": null,
      "outputs": []
    },
    {
      "cell_type": "code",
      "source": [
        "x = int(input(\"Enter x\"))\n",
        "y = int(input(\"Exnter y\"))\n",
        "print(\"Sum:\" + str((x+y)))"
      ],
      "metadata": {
        "colab": {
          "base_uri": "https://localhost:8080/"
        },
        "id": "zO8EB3O1g5UI",
        "outputId": "479f2a90-e3ac-4e63-e2a9-faaed34c463a"
      },
      "execution_count": null,
      "outputs": [
        {
          "output_type": "stream",
          "name": "stdout",
          "text": [
            "Enter x5\n",
            "Exnter y6\n",
            "Sum:11\n"
          ]
        }
      ]
    },
    {
      "cell_type": "code",
      "source": [
        ""
      ],
      "metadata": {
        "id": "wZFnLqY9rw-K"
      },
      "execution_count": null,
      "outputs": []
    },
    {
      "cell_type": "code",
      "source": [
        ""
      ],
      "metadata": {
        "id": "1VcVkoA7ryDU"
      },
      "execution_count": null,
      "outputs": []
    },
    {
      "cell_type": "code",
      "source": [
        "x = input(\"Enter X\")\n",
        "y = input(\"Enter Y\")\n",
        "if x < y :\n",
        "  print (\"X is less than y\")\n",
        "elif x > y:\n",
        "  print (\"X is greater thab y\")\n",
        "else:\n",
        "  print (\"X is equal to Y\")\n",
        "\n"
      ],
      "metadata": {
        "colab": {
          "base_uri": "https://localhost:8080/"
        },
        "id": "3SsX6mAzi_M7",
        "outputId": "d226f99b-8352-4b45-ca38-00662c543eb6"
      },
      "execution_count": null,
      "outputs": [
        {
          "output_type": "stream",
          "name": "stdout",
          "text": [
            "Enter X5\n",
            "Enter Y7\n",
            "X is less than y\n"
          ]
        }
      ]
    },
    {
      "cell_type": "code",
      "source": [
        "for i in range(10):\n",
        "  print (\"*\", end =\" \\n\") "
      ],
      "metadata": {
        "colab": {
          "base_uri": "https://localhost:8080/"
        },
        "id": "QO_VmgrnpNuK",
        "outputId": "980395ce-fc79-438a-a329-d77ff1bee4f7"
      },
      "execution_count": null,
      "outputs": [
        {
          "output_type": "stream",
          "name": "stdout",
          "text": [
            "* \n",
            "* \n",
            "* \n",
            "* \n",
            "* \n",
            "* \n",
            "* \n",
            "* \n",
            "* \n",
            "* \n"
          ]
        }
      ]
    },
    {
      "cell_type": "code",
      "source": [
        "scores = [50, 60, 70]\n",
        "average = sum(scores) / len(scores)\n",
        "print (f\"Average: {average}\")"
      ],
      "metadata": {
        "colab": {
          "base_uri": "https://localhost:8080/"
        },
        "id": "qP7VeyMYr0F0",
        "outputId": "305120cf-1422-42ee-c9e6-d62423d4868e"
      },
      "execution_count": null,
      "outputs": [
        {
          "output_type": "stream",
          "name": "stdout",
          "text": [
            "Average: 60.0\n"
          ]
        }
      ]
    },
    {
      "cell_type": "code",
      "source": [
        "class Solution:\n",
        "    def solveSudoku(self, board):\n",
        "        self.solve(board) # Utiliser la fonction solve qui va compléter la board\n",
        "        return \"Résolu !\"\n",
        "        \n",
        "    def est_valide(self,board,i,j,digit):\n",
        "        active_cell_val = str(digit)\n",
        "\n",
        "        # Vérifier le 3x3 square si unique\n",
        "        for rows in range(i - (i % 3), (i - i % 3) + 3):\n",
        "            for cols in range(j - (j % 3), (j - j % 3) + 3):\n",
        "                if board[rows][cols] == active_cell_val and rows != i or board[rows][cols] == active_cell_val and cols != j:\n",
        "                    return False\n",
        "\n",
        "        row = -1 # -1 pour s'assurer de commencer à 0\n",
        "        col = j\n",
        "        # Vérifier la col si unique\n",
        "        while row + 1 < len(board):\n",
        "            if board[row + 1][col] == active_cell_val:\n",
        "                return False\n",
        "            else:\n",
        "                row += 1\n",
        "        row = i\n",
        "        col = -1 # -1 pour s'assurer de commencer à 0\n",
        "        # Vérifier la row si unique\n",
        "        while col + 1 < len(board[i]):\n",
        "            if board[row][col + 1] == active_cell_val and col != j:\n",
        "                return False\n",
        "            else:\n",
        "                col += 1\n",
        "        return True # Unique\n",
        "\n",
        "    # Ajouter le chiffre (digit) à l'index passé en paramètre (board[row][col])\n",
        "    def add_digit(self,board,digit,row,col):\n",
        "\n",
        "        board[row][col] = str(digit)\n",
        "\n",
        "    # Remplacer le chiffre par un '.' à l'index passé en paramètre (board[row][col])\n",
        "    def remove_digit(self,board,row,col):\n",
        "        board[row][col] = \".\" # Puisque dans la méthode get_pos_empty nous cherchons pour une cellule ayant '.', nous allons y revenir\n",
        "\n",
        "    # Permet de vérifier si il ne reste plus de '.' dans la board. S'il y en a plus, nous avons la solution\n",
        "    def complet(self,board):\n",
        "        for i in range(len(board)):\n",
        "            for j in range(len(board[i])):\n",
        "                if board[i][j] == \".\":\n",
        "                    return False\n",
        "        return True\n",
        "\n",
        "    # Permet de retourner les coordonnées de la cellule à tester (row,col) / (y,x)\n",
        "    # Puisque je vérifie si la board est complété avant d'utiliser cette méthode, je n'ai pas besoin d'un autre return autre que celui présent\n",
        "    # Nous sommes sûre à 100% qu'il va retournée une coordonnée\n",
        "    def get_pos_empty(self,board):\n",
        "        for i in range(len(board)):\n",
        "            for j in range(len(board[i])):\n",
        "                if board[i][j] == \".\":\n",
        "                    return (i,j)\n",
        "\n",
        "    # Main logic\n",
        "    # Fonction récursive de retour sur trace qui va permettre de compléter la board de Sudoku\n",
        "    # Cette fonction va s'appeler elle même jusqu'à temps qu'elle retourne True dans le if complet(board)\n",
        "    def solve(self,board):\n",
        "\n",
        "        if self.complet(board):\n",
        "            for rows in board:\n",
        "                print(rows)\n",
        "            return True\n",
        "        else:\n",
        "            position = self.get_pos_empty(board) # (y,x)\n",
        "            for i in range(1,10):\n",
        "                if self.est_valide(board,position[0],position[1],i): # Si le chiffre que nous voulons insérer est valide présentement\n",
        "                    self.add_digit(board,i, position[0],position[1]) # On ajoute le chiffre dans la cellule\n",
        "                    \n",
        "                    self.solve(board) # On va vérifier si le tout est complet à nouveau. Chercher pour la prochaine cellule vide, essayer les chiffres de 1 à 9.\n",
        "                    # Si on se rend jusqu'à 9, on va break du for loop et ajouter un '.' si il y avait un chiffre présent.\n",
        "\n",
        "            if board[position[0]][position[1]] != \".\": # Puisque j'ajoute un chiffre seulement si ce serait valide, lorsque c'est pas valide, mon chiffre n'est pas présent. C'est encore un '.'.\n",
        "                # Donc inutile de remplacer un '.' par un '.'. Ce sera seulement utile pour l'instance de solve() d'avant, qui lui si se rend à 9, devra retirer le chiffre qui était auparant valide.\n",
        "                self.remove_digit(board,position[0],position[1]) # On retire le chiffre présentement actif et allons retomber dans l'instance d'avant et continuer à partir de celui-ci et ainsi de suite\n"
      ],
      "metadata": {
        "id": "Sxdpo4eUCmmb"
      },
      "execution_count": null,
      "outputs": []
    },
    {
      "cell_type": "code",
      "source": [
        "## BLACKJACK\n",
        "\n",
        "import random\n",
        "\n",
        "cards = [11, 2, 3, 4, 5, 6, 7, 8, 9, 10, 10, 10, 10]\n",
        "\n",
        "\n",
        "def deal_cards(hand, cards , num_of_cards ):\n",
        "  \"\"\"\n",
        "  This is function that deals cards to a hand. This function also has some safegaurds to ensure that someone does not lose the game in the case of someone going over 21 on the first inital draw \n",
        "  of allowing an ace to be a 1 if necessary\n",
        "  \"\"\"\n",
        "  for i in range(num_of_cards):  \n",
        "    #here we are drawing 1 random cards N times where N is the number of cards given\n",
        "    random_card = random.choice(cards)\n",
        "    hand.append(random_card)\n",
        "    #this is a check to make sure that if an Ace is drawn and a hand's value would go over 21, the Ace is now considered a 1 instead\n",
        "    if random_card == 11 and sum(hand) > 21:\n",
        "      #since the card is automatically appended to the hand, we know that len of the hand minus 1 will be the position we need to overwrite the Ace\n",
        "      hand[len(hand)-1] = 1\n",
        "  if num_of_cards == 2 and sum(hand) == 22:\n",
        "    #this is a check to see if someone's inital draw was two aces. If so,\n",
        "    #then one of them must be converted to a 1 to ensure viability \n",
        "    hand[random.randint(0,1)] = 1\n",
        "\n",
        "\n",
        "play_again = True\n",
        "while play_again == True:\n",
        "  dealer_hand = []\n",
        "  player_hand = []\n",
        "  deal_cards(dealer_hand, cards, 2)\n",
        "  deal_cards(player_hand, cards, 2)\n",
        "  game_over = False\n",
        "  #play_again = True\n",
        "  print(f\"These are your cards {player_hand}\\nThis is the first card of the house {dealer_hand[0]} \"  )\n",
        "  while not game_over:\n",
        "    player_continue = input(\"Do you want to draw another card? Type Y or N \").upper()\n",
        "\n",
        "    while player_continue == \"Y\" and sum(player_hand) <21: \n",
        "      deal_cards(player_hand, cards, 1)\n",
        "      print(f\"These are your cards. {player_hand}\")\n",
        "      if sum(player_hand) < 21:\n",
        "        player_continue = input(\"Do you want to draw another card? Type Y or N \").upper()\n",
        "    while sum(dealer_hand) < 16:\n",
        "      deal_cards(dealer_hand, cards, 1)\n",
        "    if sum(dealer_hand) == 21 or sum(player_hand) > 21:\n",
        "      if sum(dealer_hand) == 21:\n",
        "        print(\"House got 21. You lose :(\")\n",
        "      else:\n",
        "        print(\"You went over 21. You lose :'( \")\n",
        "        game_over = True\n",
        "    elif sum(player_hand) == 21:\n",
        "      print(\"You win XD \")\n",
        "      game_over = True\n",
        "\n",
        "    if player_continue != \"Y\" and sum(dealer_hand) > 16:\n",
        "      if sum(player_hand) > sum(dealer_hand):\n",
        "        print(f\"You win!\\n Your hand {player_hand}.\\nHouse hand {dealer_hand}\")\n",
        "        game_over = True\n",
        "      elif sum(player_hand) == sum(dealer_hand):\n",
        "        print(\"It is a draw.\")\n",
        "        print(f\"Your hand {player_hand}.\\nHouse hand {dealer_hand}\")\n",
        "        game_over = True\n",
        "      else:\n",
        "        print(\"You lose :'( !\")\n",
        "        print(f\"Your hand {player_hand}.\\nHouse hand {dealer_hand}\")\n",
        "        game_over = True\n",
        "  if input(\"Do you want to play again? Type Y for Yes \").upper() != \"Y\":\n",
        "    play_again = False"
      ],
      "metadata": {
        "colab": {
          "base_uri": "https://localhost:8080/"
        },
        "id": "lkujw9AvEAaf",
        "outputId": "c93e2bd4-243b-44a1-daef-9c43ca1fead4"
      },
      "execution_count": null,
      "outputs": [
        {
          "name": "stdout",
          "output_type": "stream",
          "text": [
            "These are your cards [10, 10]\n",
            "This is the first card of the house 6 \n",
            "Do you want to draw another card? Type Y or N Y\n",
            "These are your cards. [10, 10, 5]\n",
            "You went over 21. You lose :'( \n",
            "Do you want to play again? Type Y for Yes Y\n",
            "These are your cards [3, 2]\n",
            "This is the first card of the house 10 \n",
            "Do you want to draw another card? Type Y or N N\n",
            "You lose :'( !\n",
            "Your hand [3, 2].\n",
            "House hand [10, 10]\n",
            "Do you want to play again? Type Y for Yes Y\n",
            "These are your cards [3, 10]\n",
            "This is the first card of the house 10 \n",
            "Do you want to draw another card? Type Y or N N\n",
            "House got 21. You lose :(\n",
            "You lose :'( !\n",
            "Your hand [3, 10].\n",
            "House hand [10, 11]\n",
            "Do you want to play again? Type Y for Yes N\n"
          ]
        }
      ]
    },
    {
      "cell_type": "code",
      "source": [
        "# Quick variables -----------\n",
        "\n",
        "space = \" \"\n",
        "\n",
        "chatinput = input(\"Write a chat\")\n",
        "\n",
        "    # TIme ----------\n",
        "\n",
        "import datetime\n",
        "\n",
        "now = datetime.datetime.now()\n",
        "\n",
        "import time\n",
        "\n",
        "t = time.localtime()\n",
        "current_time = time.strftime(\"%H:%M\", t)\n",
        "\n",
        "\n",
        "    # Color ----------\n",
        "    \n",
        "from termcolor import colored\n",
        "    \n",
        "    # Chat def ----------\n",
        "\n",
        "def chat(name, msg):\n",
        "    print(\"[\" + name + \"]\" + space +\">>\"+ space + msg)\n",
        "    print(space)\n",
        "    \n",
        "def chattm(name, msg):\n",
        "    print(\"[GMT]\" + current_time + space + \"[\" + name + \"]\" + space +\">>\"+ space + msg)\n",
        "    print(space)\n",
        "    \n",
        "    \n",
        "    # Chat Def With Name ----------\n",
        "\n",
        "#chatcp('message') for CrystalPhantasm\n",
        "\n",
        "def chatcp():\n",
        "    print(\"[GMT]\" + current_time + space + \"[CrystalPhantasm]\" + space +\">>\"+ space + chatinput)\n",
        "    print(space)\n",
        "    \n",
        "    \n",
        "    #Header  ----------\n",
        "    \n",
        "print(\"Date and Time code executed : \")\n",
        "\n",
        "print(now)\n",
        "\n",
        "print(now.strftime(\"%Y-%m-%d %H:%M:%S\"))\n",
        "\n",
        "print(space)\n",
        "\n",
        "print(space)\n",
        "\n",
        "print(\"Python console chat\")\n",
        "\n",
        "print(space)\n",
        "\n",
        "print(\"Use chattm('name', 'message') to chat with time\")\n",
        "\n",
        "print(space)\n",
        "\n",
        "print(space)\n",
        "\n",
        "print(\"Chats:\")\n",
        "\n",
        "print(\"________\")\n",
        "    \n",
        "print(space)\n",
        "\n",
        "\n",
        "    # Welcome to Python console chat ------\n",
        "\n",
        "# Use chattm(, 'nama', 'pesan') to chat\n",
        "\n",
        "chatcp()\n"
      ],
      "metadata": {
        "colab": {
          "base_uri": "https://localhost:8080/"
        },
        "id": "3KYc-hcKFnCx",
        "outputId": "1ec70939-2b73-4897-8c0d-428b06d909bd"
      },
      "execution_count": null,
      "outputs": [
        {
          "output_type": "stream",
          "name": "stdout",
          "text": [
            "Write a chatHI\n",
            "Date and Time code executed : \n",
            "2022-01-05 16:33:26.842066\n",
            "2022-01-05 16:33:26\n",
            " \n",
            " \n",
            "Python console chat\n",
            " \n",
            "Use chattm('name', 'message') to chat with time\n",
            " \n",
            " \n",
            "Chats:\n",
            "________\n",
            " \n",
            "[GMT]16:33 [CrystalPhantasm] >> HI\n",
            " \n"
          ]
        }
      ]
    },
    {
      "cell_type": "code",
      "source": [
        "#Number Found or Not found in list\n",
        "\n",
        "import sys\n",
        "numbers = [2,3,4,5,6,6,6,8,9]\n",
        "user_input =int(input(\"Enter Number\"))\n",
        "\n",
        "if user_input in numbers:\n",
        "  print (\"Found\")\n",
        "else:\n",
        "  print(\"Not Found\")"
      ],
      "metadata": {
        "colab": {
          "base_uri": "https://localhost:8080/"
        },
        "id": "Hw5i_LvIGlPD",
        "outputId": "5a687f93-0bf2-4521-d68b-5c412417c788"
      },
      "execution_count": null,
      "outputs": [
        {
          "output_type": "stream",
          "name": "stdout",
          "text": [
            "Enter Number6\n",
            "found\n"
          ]
        }
      ]
    },
    {
      "cell_type": "code",
      "source": [
        "#phonebook\n",
        "\n",
        "people = {\n",
        "    \"Rahul\" : \"+91-11-11-11-11-11\",\n",
        "    \"Ranjan\": \"+91-22-22-22-22-22\"\n",
        "}\n",
        "name = input(\"enter name\\n\")\n",
        "if name in people:\n",
        "  numbers = people[name]\n",
        "  print(f\"Number: {numbers}\")\n",
        "else:\n",
        "  print(f\"Name not found\")\n"
      ],
      "metadata": {
        "colab": {
          "base_uri": "https://localhost:8080/"
        },
        "id": "E-M6gLW0IEKh",
        "outputId": "a862424f-b101-41a0-8bee-fe300b9165dc"
      },
      "execution_count": null,
      "outputs": [
        {
          "output_type": "stream",
          "name": "stdout",
          "text": [
            "enter name\n",
            "dgsg\n",
            "Name not found\n"
          ]
        }
      ]
    },
    {
      "cell_type": "code",
      "source": [
        "#phonebook\n",
        "\n",
        "people = {\n",
        "    \"Rahul\" : \"+91-11-11-11-11-11\",\n",
        "    \"Ranjan\": \"+91-22-22-22-22-22\"\n",
        "}\n",
        "print(people)\n",
        "print(len(people))\n",
        "print(people.keys())\n",
        "print(people.values())\n"
      ],
      "metadata": {
        "colab": {
          "base_uri": "https://localhost:8080/"
        },
        "id": "QXCAf_dTKuKW",
        "outputId": "7b6f9018-25c1-4c00-a8e2-393f153f1aff"
      },
      "execution_count": null,
      "outputs": [
        {
          "output_type": "stream",
          "name": "stdout",
          "text": [
            "{'Rahul': '+91-11-11-11-11-11', 'Ranjan': '+91-22-22-22-22-22'}\n",
            "2\n",
            "dict_keys(['Rahul', 'Ranjan'])\n",
            "dict_values(['+91-11-11-11-11-11', '+91-22-22-22-22-22'])\n"
          ]
        }
      ]
    },
    {
      "cell_type": "markdown",
      "source": [
        ""
      ],
      "metadata": {
        "id": "fA7NIoWNNOEd"
      }
    },
    {
      "cell_type": "code",
      "source": [
        "import csv\n",
        "file = open(\"phonebook.csv\", \"a\")\n",
        "name = input(\"Enter Name\")\n",
        "number = input(\"Enter Number\")\n",
        "writer = csv.writer(file)\n",
        "writer.writerow([name , number])\n",
        "file.close()"
      ],
      "metadata": {
        "colab": {
          "base_uri": "https://localhost:8080/"
        },
        "id": "FqYgpQ6dL3A5",
        "outputId": "01d07909-0b80-4b76-8f86-35a54ca508c6"
      },
      "execution_count": null,
      "outputs": [
        {
          "name": "stdout",
          "output_type": "stream",
          "text": [
            "Enter NameRahul\n",
            "Enter Number111111\n"
          ]
        }
      ]
    },
    {
      "cell_type": "code",
      "source": [
        "!pip install SpeechRecognition\n",
        "import SpeechRecognition"
      ],
      "metadata": {
        "colab": {
          "base_uri": "https://localhost:8080/",
          "height": 408
        },
        "id": "zWcdAgZ0N6_J",
        "outputId": "d0b2597c-5805-4f1b-b7c1-8200c64dc194"
      },
      "execution_count": null,
      "outputs": [
        {
          "output_type": "stream",
          "name": "stdout",
          "text": [
            "Collecting SpeechRecognition\n",
            "  Downloading SpeechRecognition-3.8.1-py2.py3-none-any.whl (32.8 MB)\n",
            "\u001b[K     |████████████████████████████████| 32.8 MB 1.6 MB/s \n",
            "\u001b[?25hInstalling collected packages: SpeechRecognition\n",
            "Successfully installed SpeechRecognition-3.8.1\n"
          ]
        },
        {
          "output_type": "error",
          "ename": "ModuleNotFoundError",
          "evalue": "ignored",
          "traceback": [
            "\u001b[0;31m---------------------------------------------------------------------------\u001b[0m",
            "\u001b[0;31mModuleNotFoundError\u001b[0m                       Traceback (most recent call last)",
            "\u001b[0;32m<ipython-input-62-ada60ef3a3ae>\u001b[0m in \u001b[0;36m<module>\u001b[0;34m()\u001b[0m\n\u001b[1;32m      1\u001b[0m \u001b[0mget_ipython\u001b[0m\u001b[0;34m(\u001b[0m\u001b[0;34m)\u001b[0m\u001b[0;34m.\u001b[0m\u001b[0msystem\u001b[0m\u001b[0;34m(\u001b[0m\u001b[0;34m'pip install SpeechRecognition'\u001b[0m\u001b[0;34m)\u001b[0m\u001b[0;34m\u001b[0m\u001b[0;34m\u001b[0m\u001b[0m\n\u001b[0;32m----> 2\u001b[0;31m \u001b[0;32mimport\u001b[0m \u001b[0mSpeechRecognition\u001b[0m\u001b[0;34m\u001b[0m\u001b[0;34m\u001b[0m\u001b[0m\n\u001b[0m",
            "\u001b[0;31mModuleNotFoundError\u001b[0m: No module named 'SpeechRecognition'",
            "",
            "\u001b[0;31m---------------------------------------------------------------------------\u001b[0;32m\nNOTE: If your import is failing due to a missing package, you can\nmanually install dependencies using either !pip or !apt.\n\nTo view examples of installing some common dependencies, click the\n\"Open Examples\" button below.\n\u001b[0;31m---------------------------------------------------------------------------\u001b[0m\n"
          ],
          "errorDetails": {
            "actions": [
              {
                "action": "open_url",
                "actionText": "Open Examples",
                "url": "/notebooks/snippets/importing_libraries.ipynb"
              }
            ]
          }
        }
      ]
    },
    {
      "cell_type": "code",
      "source": [
        ""
      ],
      "metadata": {
        "id": "DFfEFbpR8c_l"
      },
      "execution_count": null,
      "outputs": []
    },
    {
      "cell_type": "code",
      "source": [
        "#Python program to count the number of lines in a text file.\n",
        "def file_lengthy(fname):\n",
        "    with open(fname) as f:\n",
        "        for i, l in enumerate(f):\n",
        "            pass\n",
        "        return i + 1\n",
        "\n",
        "print(\"Number of lines in the file: \",file_lengthy(\"vm.txt\"))"
      ],
      "metadata": {
        "colab": {
          "base_uri": "https://localhost:8080/"
        },
        "id": "huK3bbnv8ezM",
        "outputId": "3e7aa75c-15a5-4352-fe89-61c1217f7ba5"
      },
      "execution_count": null,
      "outputs": [
        {
          "output_type": "stream",
          "name": "stdout",
          "text": [
            "Number of lines in the file:  19\n"
          ]
        }
      ]
    },
    {
      "cell_type": "code",
      "source": [
        "import pyttsx3\n",
        "engine = pyttsx3.init()\n",
        "speech = input(\"Enter Sentence:\")\n",
        "engine.say(speech)\n",
        "engine.runAndWait()"
      ],
      "metadata": {
        "colab": {
          "base_uri": "https://localhost:8080/",
          "height": 432
        },
        "id": "7pLoWLA2YnB_",
        "outputId": "cb0f1873-fa2c-4e37-cb6e-36d759e28f8c"
      },
      "execution_count": null,
      "outputs": [
        {
          "output_type": "error",
          "ename": "OSError",
          "evalue": "ignored",
          "traceback": [
            "\u001b[0;31m---------------------------------------------------------------------------\u001b[0m",
            "\u001b[0;31mKeyError\u001b[0m                                  Traceback (most recent call last)",
            "\u001b[0;32m/usr/local/lib/python3.7/dist-packages/pyttsx3/__init__.py\u001b[0m in \u001b[0;36minit\u001b[0;34m(driverName, debug)\u001b[0m\n\u001b[1;32m     19\u001b[0m     \u001b[0;32mtry\u001b[0m\u001b[0;34m:\u001b[0m\u001b[0;34m\u001b[0m\u001b[0;34m\u001b[0m\u001b[0m\n\u001b[0;32m---> 20\u001b[0;31m         \u001b[0meng\u001b[0m \u001b[0;34m=\u001b[0m \u001b[0m_activeEngines\u001b[0m\u001b[0;34m[\u001b[0m\u001b[0mdriverName\u001b[0m\u001b[0;34m]\u001b[0m\u001b[0;34m\u001b[0m\u001b[0;34m\u001b[0m\u001b[0m\n\u001b[0m\u001b[1;32m     21\u001b[0m     \u001b[0;32mexcept\u001b[0m \u001b[0mKeyError\u001b[0m\u001b[0;34m:\u001b[0m\u001b[0;34m\u001b[0m\u001b[0;34m\u001b[0m\u001b[0m\n",
            "\u001b[0;32m/usr/lib/python3.7/weakref.py\u001b[0m in \u001b[0;36m__getitem__\u001b[0;34m(self, key)\u001b[0m\n\u001b[1;32m    136\u001b[0m             \u001b[0mself\u001b[0m\u001b[0;34m.\u001b[0m\u001b[0m_commit_removals\u001b[0m\u001b[0;34m(\u001b[0m\u001b[0;34m)\u001b[0m\u001b[0;34m\u001b[0m\u001b[0;34m\u001b[0m\u001b[0m\n\u001b[0;32m--> 137\u001b[0;31m         \u001b[0mo\u001b[0m \u001b[0;34m=\u001b[0m \u001b[0mself\u001b[0m\u001b[0;34m.\u001b[0m\u001b[0mdata\u001b[0m\u001b[0;34m[\u001b[0m\u001b[0mkey\u001b[0m\u001b[0;34m]\u001b[0m\u001b[0;34m(\u001b[0m\u001b[0;34m)\u001b[0m\u001b[0;34m\u001b[0m\u001b[0;34m\u001b[0m\u001b[0m\n\u001b[0m\u001b[1;32m    138\u001b[0m         \u001b[0;32mif\u001b[0m \u001b[0mo\u001b[0m \u001b[0;32mis\u001b[0m \u001b[0;32mNone\u001b[0m\u001b[0;34m:\u001b[0m\u001b[0;34m\u001b[0m\u001b[0;34m\u001b[0m\u001b[0m\n",
            "\u001b[0;31mKeyError\u001b[0m: None",
            "\nDuring handling of the above exception, another exception occurred:\n",
            "\u001b[0;31mOSError\u001b[0m                                   Traceback (most recent call last)",
            "\u001b[0;32m<ipython-input-60-4bf1b7bfa477>\u001b[0m in \u001b[0;36m<module>\u001b[0;34m()\u001b[0m\n\u001b[1;32m      1\u001b[0m \u001b[0;32mimport\u001b[0m \u001b[0mpyttsx3\u001b[0m\u001b[0;34m\u001b[0m\u001b[0;34m\u001b[0m\u001b[0m\n\u001b[0;32m----> 2\u001b[0;31m \u001b[0mengine\u001b[0m \u001b[0;34m=\u001b[0m \u001b[0mpyttsx3\u001b[0m\u001b[0;34m.\u001b[0m\u001b[0minit\u001b[0m\u001b[0;34m(\u001b[0m\u001b[0;34m)\u001b[0m\u001b[0;34m\u001b[0m\u001b[0;34m\u001b[0m\u001b[0m\n\u001b[0m\u001b[1;32m      3\u001b[0m \u001b[0mspeech\u001b[0m \u001b[0;34m=\u001b[0m \u001b[0minput\u001b[0m\u001b[0;34m(\u001b[0m\u001b[0;34m\"Enter Sentence:\"\u001b[0m\u001b[0;34m)\u001b[0m\u001b[0;34m\u001b[0m\u001b[0;34m\u001b[0m\u001b[0m\n\u001b[1;32m      4\u001b[0m \u001b[0mengine\u001b[0m\u001b[0;34m.\u001b[0m\u001b[0msay\u001b[0m\u001b[0;34m(\u001b[0m\u001b[0mspeech\u001b[0m\u001b[0;34m)\u001b[0m\u001b[0;34m\u001b[0m\u001b[0;34m\u001b[0m\u001b[0m\n\u001b[1;32m      5\u001b[0m \u001b[0mengine\u001b[0m\u001b[0;34m.\u001b[0m\u001b[0mrunAndWait\u001b[0m\u001b[0;34m(\u001b[0m\u001b[0;34m)\u001b[0m\u001b[0;34m\u001b[0m\u001b[0;34m\u001b[0m\u001b[0m\n",
            "\u001b[0;32m/usr/local/lib/python3.7/dist-packages/pyttsx3/__init__.py\u001b[0m in \u001b[0;36minit\u001b[0;34m(driverName, debug)\u001b[0m\n\u001b[1;32m     20\u001b[0m         \u001b[0meng\u001b[0m \u001b[0;34m=\u001b[0m \u001b[0m_activeEngines\u001b[0m\u001b[0;34m[\u001b[0m\u001b[0mdriverName\u001b[0m\u001b[0;34m]\u001b[0m\u001b[0;34m\u001b[0m\u001b[0;34m\u001b[0m\u001b[0m\n\u001b[1;32m     21\u001b[0m     \u001b[0;32mexcept\u001b[0m \u001b[0mKeyError\u001b[0m\u001b[0;34m:\u001b[0m\u001b[0;34m\u001b[0m\u001b[0;34m\u001b[0m\u001b[0m\n\u001b[0;32m---> 22\u001b[0;31m         \u001b[0meng\u001b[0m \u001b[0;34m=\u001b[0m \u001b[0mEngine\u001b[0m\u001b[0;34m(\u001b[0m\u001b[0mdriverName\u001b[0m\u001b[0;34m,\u001b[0m \u001b[0mdebug\u001b[0m\u001b[0;34m)\u001b[0m\u001b[0;34m\u001b[0m\u001b[0;34m\u001b[0m\u001b[0m\n\u001b[0m\u001b[1;32m     23\u001b[0m         \u001b[0m_activeEngines\u001b[0m\u001b[0;34m[\u001b[0m\u001b[0mdriverName\u001b[0m\u001b[0;34m]\u001b[0m \u001b[0;34m=\u001b[0m \u001b[0meng\u001b[0m\u001b[0;34m\u001b[0m\u001b[0;34m\u001b[0m\u001b[0m\n\u001b[1;32m     24\u001b[0m     \u001b[0;32mreturn\u001b[0m \u001b[0meng\u001b[0m\u001b[0;34m\u001b[0m\u001b[0;34m\u001b[0m\u001b[0m\n",
            "\u001b[0;32m/usr/local/lib/python3.7/dist-packages/pyttsx3/engine.py\u001b[0m in \u001b[0;36m__init__\u001b[0;34m(self, driverName, debug)\u001b[0m\n\u001b[1;32m     28\u001b[0m         \u001b[0;34m@\u001b[0m\u001b[0mtype\u001b[0m \u001b[0mdebug\u001b[0m\u001b[0;34m:\u001b[0m \u001b[0mbool\u001b[0m\u001b[0;34m\u001b[0m\u001b[0;34m\u001b[0m\u001b[0m\n\u001b[1;32m     29\u001b[0m         \"\"\"\n\u001b[0;32m---> 30\u001b[0;31m         \u001b[0mself\u001b[0m\u001b[0;34m.\u001b[0m\u001b[0mproxy\u001b[0m \u001b[0;34m=\u001b[0m \u001b[0mdriver\u001b[0m\u001b[0;34m.\u001b[0m\u001b[0mDriverProxy\u001b[0m\u001b[0;34m(\u001b[0m\u001b[0mweakref\u001b[0m\u001b[0;34m.\u001b[0m\u001b[0mproxy\u001b[0m\u001b[0;34m(\u001b[0m\u001b[0mself\u001b[0m\u001b[0;34m)\u001b[0m\u001b[0;34m,\u001b[0m \u001b[0mdriverName\u001b[0m\u001b[0;34m,\u001b[0m \u001b[0mdebug\u001b[0m\u001b[0;34m)\u001b[0m\u001b[0;34m\u001b[0m\u001b[0;34m\u001b[0m\u001b[0m\n\u001b[0m\u001b[1;32m     31\u001b[0m         \u001b[0;31m# initialize other vars\u001b[0m\u001b[0;34m\u001b[0m\u001b[0;34m\u001b[0m\u001b[0;34m\u001b[0m\u001b[0m\n\u001b[1;32m     32\u001b[0m         \u001b[0mself\u001b[0m\u001b[0;34m.\u001b[0m\u001b[0m_connects\u001b[0m \u001b[0;34m=\u001b[0m \u001b[0;34m{\u001b[0m\u001b[0;34m}\u001b[0m\u001b[0;34m\u001b[0m\u001b[0;34m\u001b[0m\u001b[0m\n",
            "\u001b[0;32m/usr/local/lib/python3.7/dist-packages/pyttsx3/driver.py\u001b[0m in \u001b[0;36m__init__\u001b[0;34m(self, engine, driverName, debug)\u001b[0m\n\u001b[1;32m     48\u001b[0m         \u001b[0;31m# import driver module\u001b[0m\u001b[0;34m\u001b[0m\u001b[0;34m\u001b[0m\u001b[0;34m\u001b[0m\u001b[0m\n\u001b[1;32m     49\u001b[0m         \u001b[0mname\u001b[0m \u001b[0;34m=\u001b[0m \u001b[0;34m'pyttsx3.drivers.%s'\u001b[0m \u001b[0;34m%\u001b[0m \u001b[0mdriverName\u001b[0m\u001b[0;34m\u001b[0m\u001b[0;34m\u001b[0m\u001b[0m\n\u001b[0;32m---> 50\u001b[0;31m         \u001b[0mself\u001b[0m\u001b[0;34m.\u001b[0m\u001b[0m_module\u001b[0m \u001b[0;34m=\u001b[0m \u001b[0mimportlib\u001b[0m\u001b[0;34m.\u001b[0m\u001b[0mimport_module\u001b[0m\u001b[0;34m(\u001b[0m\u001b[0mname\u001b[0m\u001b[0;34m)\u001b[0m\u001b[0;34m\u001b[0m\u001b[0;34m\u001b[0m\u001b[0m\n\u001b[0m\u001b[1;32m     51\u001b[0m         \u001b[0;31m# build driver instance\u001b[0m\u001b[0;34m\u001b[0m\u001b[0;34m\u001b[0m\u001b[0;34m\u001b[0m\u001b[0m\n\u001b[1;32m     52\u001b[0m         \u001b[0mself\u001b[0m\u001b[0;34m.\u001b[0m\u001b[0m_driver\u001b[0m \u001b[0;34m=\u001b[0m \u001b[0mself\u001b[0m\u001b[0;34m.\u001b[0m\u001b[0m_module\u001b[0m\u001b[0;34m.\u001b[0m\u001b[0mbuildDriver\u001b[0m\u001b[0;34m(\u001b[0m\u001b[0mweakref\u001b[0m\u001b[0;34m.\u001b[0m\u001b[0mproxy\u001b[0m\u001b[0;34m(\u001b[0m\u001b[0mself\u001b[0m\u001b[0;34m)\u001b[0m\u001b[0;34m)\u001b[0m\u001b[0;34m\u001b[0m\u001b[0;34m\u001b[0m\u001b[0m\n",
            "\u001b[0;32m/usr/lib/python3.7/importlib/__init__.py\u001b[0m in \u001b[0;36mimport_module\u001b[0;34m(name, package)\u001b[0m\n\u001b[1;32m    125\u001b[0m                 \u001b[0;32mbreak\u001b[0m\u001b[0;34m\u001b[0m\u001b[0;34m\u001b[0m\u001b[0m\n\u001b[1;32m    126\u001b[0m             \u001b[0mlevel\u001b[0m \u001b[0;34m+=\u001b[0m \u001b[0;36m1\u001b[0m\u001b[0;34m\u001b[0m\u001b[0;34m\u001b[0m\u001b[0m\n\u001b[0;32m--> 127\u001b[0;31m     \u001b[0;32mreturn\u001b[0m \u001b[0m_bootstrap\u001b[0m\u001b[0;34m.\u001b[0m\u001b[0m_gcd_import\u001b[0m\u001b[0;34m(\u001b[0m\u001b[0mname\u001b[0m\u001b[0;34m[\u001b[0m\u001b[0mlevel\u001b[0m\u001b[0;34m:\u001b[0m\u001b[0;34m]\u001b[0m\u001b[0;34m,\u001b[0m \u001b[0mpackage\u001b[0m\u001b[0;34m,\u001b[0m \u001b[0mlevel\u001b[0m\u001b[0;34m)\u001b[0m\u001b[0;34m\u001b[0m\u001b[0;34m\u001b[0m\u001b[0m\n\u001b[0m\u001b[1;32m    128\u001b[0m \u001b[0;34m\u001b[0m\u001b[0m\n\u001b[1;32m    129\u001b[0m \u001b[0;34m\u001b[0m\u001b[0m\n",
            "\u001b[0;32m/usr/lib/python3.7/importlib/_bootstrap.py\u001b[0m in \u001b[0;36m_gcd_import\u001b[0;34m(name, package, level)\u001b[0m\n",
            "\u001b[0;32m/usr/lib/python3.7/importlib/_bootstrap.py\u001b[0m in \u001b[0;36m_find_and_load\u001b[0;34m(name, import_)\u001b[0m\n",
            "\u001b[0;32m/usr/lib/python3.7/importlib/_bootstrap.py\u001b[0m in \u001b[0;36m_find_and_load_unlocked\u001b[0;34m(name, import_)\u001b[0m\n",
            "\u001b[0;32m/usr/lib/python3.7/importlib/_bootstrap.py\u001b[0m in \u001b[0;36m_load_unlocked\u001b[0;34m(spec)\u001b[0m\n",
            "\u001b[0;32m/usr/lib/python3.7/importlib/_bootstrap_external.py\u001b[0m in \u001b[0;36mexec_module\u001b[0;34m(self, module)\u001b[0m\n",
            "\u001b[0;32m/usr/lib/python3.7/importlib/_bootstrap.py\u001b[0m in \u001b[0;36m_call_with_frames_removed\u001b[0;34m(f, *args, **kwds)\u001b[0m\n",
            "\u001b[0;32m/usr/local/lib/python3.7/dist-packages/pyttsx3/drivers/espeak.py\u001b[0m in \u001b[0;36m<module>\u001b[0;34m()\u001b[0m\n\u001b[1;32m      7\u001b[0m \u001b[0;32mfrom\u001b[0m \u001b[0mtempfile\u001b[0m \u001b[0;32mimport\u001b[0m \u001b[0mNamedTemporaryFile\u001b[0m\u001b[0;34m\u001b[0m\u001b[0;34m\u001b[0m\u001b[0m\n\u001b[1;32m      8\u001b[0m \u001b[0;32mfrom\u001b[0m \u001b[0;34m.\u001b[0m\u001b[0;34m.\u001b[0m\u001b[0mvoice\u001b[0m \u001b[0;32mimport\u001b[0m \u001b[0mVoice\u001b[0m\u001b[0;34m\u001b[0m\u001b[0;34m\u001b[0m\u001b[0m\n\u001b[0;32m----> 9\u001b[0;31m \u001b[0;32mfrom\u001b[0m \u001b[0;34m.\u001b[0m \u001b[0;32mimport\u001b[0m \u001b[0m_espeak\u001b[0m\u001b[0;34m,\u001b[0m \u001b[0mtoUtf8\u001b[0m\u001b[0;34m,\u001b[0m \u001b[0mfromUtf8\u001b[0m\u001b[0;34m\u001b[0m\u001b[0;34m\u001b[0m\u001b[0m\n\u001b[0m\u001b[1;32m     10\u001b[0m \u001b[0;34m\u001b[0m\u001b[0m\n\u001b[1;32m     11\u001b[0m \u001b[0;34m\u001b[0m\u001b[0m\n",
            "\u001b[0;32m/usr/local/lib/python3.7/dist-packages/pyttsx3/drivers/_espeak.py\u001b[0m in \u001b[0;36m<module>\u001b[0;34m()\u001b[0m\n\u001b[1;32m     16\u001b[0m     \u001b[0;32mreturn\u001b[0m \u001b[0mCFUNCTYPE\u001b[0m\u001b[0;34m(\u001b[0m\u001b[0mresult\u001b[0m\u001b[0;34m,\u001b[0m \u001b[0;34m*\u001b[0m\u001b[0matypes\u001b[0m\u001b[0;34m)\u001b[0m\u001b[0;34m(\u001b[0m\u001b[0;34m(\u001b[0m\u001b[0mname\u001b[0m\u001b[0;34m,\u001b[0m \u001b[0mdll\u001b[0m\u001b[0;34m)\u001b[0m\u001b[0;34m,\u001b[0m \u001b[0mtuple\u001b[0m\u001b[0;34m(\u001b[0m\u001b[0maflags\u001b[0m\u001b[0;34m)\u001b[0m\u001b[0;34m)\u001b[0m\u001b[0;34m\u001b[0m\u001b[0;34m\u001b[0m\u001b[0m\n\u001b[1;32m     17\u001b[0m \u001b[0;34m\u001b[0m\u001b[0m\n\u001b[0;32m---> 18\u001b[0;31m \u001b[0mdll\u001b[0m \u001b[0;34m=\u001b[0m \u001b[0mcdll\u001b[0m\u001b[0;34m.\u001b[0m\u001b[0mLoadLibrary\u001b[0m\u001b[0;34m(\u001b[0m\u001b[0;34m'libespeak.so.1'\u001b[0m\u001b[0;34m)\u001b[0m\u001b[0;34m\u001b[0m\u001b[0;34m\u001b[0m\u001b[0m\n\u001b[0m\u001b[1;32m     19\u001b[0m \u001b[0;34m\u001b[0m\u001b[0m\n\u001b[1;32m     20\u001b[0m \u001b[0;31m# constants and such from speak_lib.h\u001b[0m\u001b[0;34m\u001b[0m\u001b[0;34m\u001b[0m\u001b[0;34m\u001b[0m\u001b[0m\n",
            "\u001b[0;32m/usr/lib/python3.7/ctypes/__init__.py\u001b[0m in \u001b[0;36mLoadLibrary\u001b[0;34m(self, name)\u001b[0m\n\u001b[1;32m    440\u001b[0m \u001b[0;34m\u001b[0m\u001b[0m\n\u001b[1;32m    441\u001b[0m     \u001b[0;32mdef\u001b[0m \u001b[0mLoadLibrary\u001b[0m\u001b[0;34m(\u001b[0m\u001b[0mself\u001b[0m\u001b[0;34m,\u001b[0m \u001b[0mname\u001b[0m\u001b[0;34m)\u001b[0m\u001b[0;34m:\u001b[0m\u001b[0;34m\u001b[0m\u001b[0;34m\u001b[0m\u001b[0m\n\u001b[0;32m--> 442\u001b[0;31m         \u001b[0;32mreturn\u001b[0m \u001b[0mself\u001b[0m\u001b[0;34m.\u001b[0m\u001b[0m_dlltype\u001b[0m\u001b[0;34m(\u001b[0m\u001b[0mname\u001b[0m\u001b[0;34m)\u001b[0m\u001b[0;34m\u001b[0m\u001b[0;34m\u001b[0m\u001b[0m\n\u001b[0m\u001b[1;32m    443\u001b[0m \u001b[0;34m\u001b[0m\u001b[0m\n\u001b[1;32m    444\u001b[0m \u001b[0mcdll\u001b[0m \u001b[0;34m=\u001b[0m \u001b[0mLibraryLoader\u001b[0m\u001b[0;34m(\u001b[0m\u001b[0mCDLL\u001b[0m\u001b[0;34m)\u001b[0m\u001b[0;34m\u001b[0m\u001b[0;34m\u001b[0m\u001b[0m\n",
            "\u001b[0;32m/usr/lib/python3.7/ctypes/__init__.py\u001b[0m in \u001b[0;36m__init__\u001b[0;34m(self, name, mode, handle, use_errno, use_last_error)\u001b[0m\n\u001b[1;32m    362\u001b[0m \u001b[0;34m\u001b[0m\u001b[0m\n\u001b[1;32m    363\u001b[0m         \u001b[0;32mif\u001b[0m \u001b[0mhandle\u001b[0m \u001b[0;32mis\u001b[0m \u001b[0;32mNone\u001b[0m\u001b[0;34m:\u001b[0m\u001b[0;34m\u001b[0m\u001b[0;34m\u001b[0m\u001b[0m\n\u001b[0;32m--> 364\u001b[0;31m             \u001b[0mself\u001b[0m\u001b[0;34m.\u001b[0m\u001b[0m_handle\u001b[0m \u001b[0;34m=\u001b[0m \u001b[0m_dlopen\u001b[0m\u001b[0;34m(\u001b[0m\u001b[0mself\u001b[0m\u001b[0;34m.\u001b[0m\u001b[0m_name\u001b[0m\u001b[0;34m,\u001b[0m \u001b[0mmode\u001b[0m\u001b[0;34m)\u001b[0m\u001b[0;34m\u001b[0m\u001b[0;34m\u001b[0m\u001b[0m\n\u001b[0m\u001b[1;32m    365\u001b[0m         \u001b[0;32melse\u001b[0m\u001b[0;34m:\u001b[0m\u001b[0;34m\u001b[0m\u001b[0;34m\u001b[0m\u001b[0m\n\u001b[1;32m    366\u001b[0m             \u001b[0mself\u001b[0m\u001b[0;34m.\u001b[0m\u001b[0m_handle\u001b[0m \u001b[0;34m=\u001b[0m \u001b[0mhandle\u001b[0m\u001b[0;34m\u001b[0m\u001b[0;34m\u001b[0m\u001b[0m\n",
            "\u001b[0;31mOSError\u001b[0m: libespeak.so.1: cannot open shared object file: No such file or directory"
          ]
        }
      ]
    },
    {
      "cell_type": "code",
      "source": [
        "from array import *\n",
        "arr = array('i', [])\n",
        "n = int(input(\"Enter the length of the array\\n\"))\n",
        "for i in range(n):\n",
        "    x = int(input(\"Enter the array value\\n\"))\n",
        "    arr.append(x)\n",
        "print(arr)\n",
        "val = int(input(\"Enter the value for search\\n\"))\n",
        "k=0\n",
        "for e in arr:\n",
        "  if e==val:\n",
        "    print(k)\n",
        "    break\n",
        "  k+=1\n",
        "\n",
        "print(arr.index(val))\n"
      ],
      "metadata": {
        "id": "Yx3j5CJT_UId"
      },
      "execution_count": null,
      "outputs": []
    },
    {
      "cell_type": "code",
      "source": [
        "from numpy import *\n",
        "arr = array([1,2,3,4,5])\n",
        "print(arr[2])"
      ],
      "metadata": {
        "colab": {
          "base_uri": "https://localhost:8080/"
        },
        "id": "0p9CCpWlFG4m",
        "outputId": "19856687-e43f-4b9c-97a5-af8f73430da0"
      },
      "execution_count": null,
      "outputs": [
        {
          "output_type": "stream",
          "name": "stdout",
          "text": [
            "3\n"
          ]
        }
      ]
    },
    {
      "cell_type": "code",
      "source": [
        "from numpy import *\n",
        "arr = array([1,4,5,2,7,8 ])\n",
        "print(mean(arr))\n",
        "print(sort(arr))\n",
        "print(median(arr))\n"
      ],
      "metadata": {
        "colab": {
          "base_uri": "https://localhost:8080/"
        },
        "id": "neu-OVTgdgnt",
        "outputId": "424edb0e-76c9-4747-a8f3-c2d614965871"
      },
      "execution_count": null,
      "outputs": [
        {
          "output_type": "stream",
          "name": "stdout",
          "text": [
            "4.5\n",
            "[1 2 4 5 7 8]\n",
            "4.5\n"
          ]
        }
      ]
    },
    {
      "cell_type": "code",
      "source": [
        "#fibonacci\n",
        "\n",
        "def fib(n):\n",
        "\n",
        "  a = 0\n",
        "  b = 1\n",
        "  if n < 1 :\n",
        "    print(\"Invalid input\")\n",
        "  elif n == 1:\n",
        "    print(a)\n",
        "  else:\n",
        "    print(a)\n",
        "    print(b)\n",
        "\n",
        "    for i in range(n-2):\n",
        "      c = a + b\n",
        "      a = b\n",
        "      b = c\n",
        "      print(c)\n",
        "n = int(input(\"Enter Number of fibonacci steps:\\n\"))\n",
        "fib(n)\n",
        "\n",
        "\n"
      ],
      "metadata": {
        "colab": {
          "base_uri": "https://localhost:8080/"
        },
        "id": "4QkdRwiMkpUe",
        "outputId": "edba6bfb-601f-499e-9aaa-af30783ac7a5"
      },
      "execution_count": null,
      "outputs": [
        {
          "output_type": "stream",
          "name": "stdout",
          "text": [
            "Enter Number of fibonacci steps:\n",
            "-5\n",
            "Invalid input\n"
          ]
        }
      ]
    },
    {
      "cell_type": "code",
      "source": [
        "#Binary Search\n",
        "# Python 3 program for recursive binary search.\n",
        "# Modifications needed for the older Python 2 are found in comments.\n",
        " \n",
        "# Returns index of x in arr if present, else -1\n",
        "def binary_search(arr, low, high, x):\n",
        " \n",
        "    # Check base case\n",
        "    if high >= low:\n",
        " \n",
        "        mid = (high + low) // 2\n",
        " \n",
        "        # If element is present at the middle itself\n",
        "        if arr[mid] == x:\n",
        "            return mid\n",
        " \n",
        "        # If element is smaller than mid, then it can only\n",
        "        # be present in left subarray\n",
        "        elif arr[mid] > x:\n",
        "            return binary_search(arr, low, mid - 1, x)\n",
        " \n",
        "        # Else the element can only be present in right subarray\n",
        "        else:\n",
        "            return binary_search(arr, mid + 1, high, x)\n",
        " \n",
        "    else:\n",
        "        # Element is not present in the array\n",
        "        return -1\n",
        " \n",
        "# Test array\n",
        "arr = [ 2, 3, 4, 10, 40 ]\n",
        "x = 10\n",
        " \n",
        "# Function call\n",
        "result = binary_search(arr, 0, len(arr)-1, x)\n",
        " \n",
        "if result != -1:\n",
        "    print(\"Element is present at index\", str(result))\n",
        "else:\n",
        "    print(\"Element is not present in array\")"
      ],
      "metadata": {
        "id": "uCFUSu89pPa4"
      },
      "execution_count": null,
      "outputs": []
    },
    {
      "cell_type": "code",
      "source": [
        "#Binary Search\n",
        "Pos = -1\n",
        "\n",
        "def search(list, n):\n",
        "\n",
        "  lower = 0\n",
        "  uppar = len(list) - 1\n",
        "\n",
        "  while lower <= uppar:\n",
        "      mid = (lower+uppar) // 2\n",
        "\n",
        "      if list[mid] == num:\n",
        "        globals()['Pos'] = mid\n",
        "        return True\n",
        "      else:\n",
        "        if list[mid] < num:\n",
        "          lower = mid+1\n",
        "        else:\n",
        "          uppar = mid +1\n",
        " \n",
        "\n",
        "list = [2,4,7,9,12,15,18]\n",
        "num = int(input(\"Enter Search number: \\n\"))\n",
        "\n",
        "if search(list, num):\n",
        "  print(\"Found at \", Pos+1)\n",
        "else:\n",
        "  print(\"Not Found\")\n",
        "\n"
      ],
      "metadata": {
        "colab": {
          "base_uri": "https://localhost:8080/"
        },
        "id": "Y8_FSfPAC9Yp",
        "outputId": "eb634dac-ea3d-4f84-b3e4-0cd81f5fd497"
      },
      "execution_count": null,
      "outputs": [
        {
          "name": "stdout",
          "output_type": "stream",
          "text": [
            "Enter Search number: \n",
            "12\n"
          ]
        }
      ]
    },
    {
      "cell_type": "code",
      "source": [
        "\n",
        "# Searching an element in a list/array in python\n",
        "# can be simply done using \\'in\\' operator\n",
        "# Example:\n",
        "# if x in arr:\n",
        "#   print arr.index(x)\n",
        "  \n",
        "# If you want to implement Linear Search in python\n",
        "  \n",
        "# Linearly search x in arr[]\n",
        "# If x is present then return its location\n",
        "# else return -1\n",
        "  \n",
        "def search(arr, x):\n",
        "  \n",
        "    for i in range(len(arr)):\n",
        "  \n",
        "        if arr[i] == x:\n",
        "            return i\n",
        "  \n",
        "    return -1"
      ],
      "metadata": {
        "id": "SxbOaIdoIK7d"
      },
      "execution_count": null,
      "outputs": []
    },
    {
      "cell_type": "code",
      "source": [
        "list1 = [2,3,4,2,3,4]\n",
        "list5 = list(set(list1))\n",
        "print (str(list5))"
      ],
      "metadata": {
        "colab": {
          "base_uri": "https://localhost:8080/",
          "height": 200
        },
        "id": "_qjBMjyKdiOo",
        "outputId": "050d6d1f-2f57-4f89-8578-14afb42f4d15"
      },
      "execution_count": null,
      "outputs": [
        {
          "output_type": "error",
          "ename": "TypeError",
          "evalue": "ignored",
          "traceback": [
            "\u001b[0;31m---------------------------------------------------------------------------\u001b[0m",
            "\u001b[0;31mTypeError\u001b[0m                                 Traceback (most recent call last)",
            "\u001b[0;32m<ipython-input-6-e41efca0bd6b>\u001b[0m in \u001b[0;36m<module>\u001b[0;34m()\u001b[0m\n\u001b[1;32m      1\u001b[0m \u001b[0mlist1\u001b[0m \u001b[0;34m=\u001b[0m \u001b[0;34m[\u001b[0m\u001b[0;36m2\u001b[0m\u001b[0;34m,\u001b[0m\u001b[0;36m3\u001b[0m\u001b[0;34m,\u001b[0m\u001b[0;36m4\u001b[0m\u001b[0;34m,\u001b[0m\u001b[0;36m2\u001b[0m\u001b[0;34m,\u001b[0m\u001b[0;36m3\u001b[0m\u001b[0;34m,\u001b[0m\u001b[0;36m4\u001b[0m\u001b[0;34m]\u001b[0m\u001b[0;34m\u001b[0m\u001b[0;34m\u001b[0m\u001b[0m\n\u001b[0;32m----> 2\u001b[0;31m \u001b[0mlist5\u001b[0m \u001b[0;34m=\u001b[0m \u001b[0mlist\u001b[0m\u001b[0;34m(\u001b[0m\u001b[0mset\u001b[0m\u001b[0;34m(\u001b[0m\u001b[0mlist1\u001b[0m\u001b[0;34m)\u001b[0m\u001b[0;34m)\u001b[0m\u001b[0;34m\u001b[0m\u001b[0;34m\u001b[0m\u001b[0m\n\u001b[0m\u001b[1;32m      3\u001b[0m \u001b[0mprint\u001b[0m \u001b[0;34m(\u001b[0m\u001b[0mstr\u001b[0m\u001b[0;34m(\u001b[0m\u001b[0mlist5\u001b[0m\u001b[0;34m)\u001b[0m\u001b[0;34m)\u001b[0m\u001b[0;34m\u001b[0m\u001b[0;34m\u001b[0m\u001b[0m\n",
            "\u001b[0;31mTypeError\u001b[0m: 'list' object is not callable"
          ]
        }
      ]
    }
  ]
}