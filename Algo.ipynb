{
  "nbformat": 4,
  "nbformat_minor": 0,
  "metadata": {
    "colab": {
      "name": "Algo.ipynb",
      "provenance": [],
      "authorship_tag": "ABX9TyNd8n2qaoaut4UfBwsi8cTS",
      "include_colab_link": true
    },
    "kernelspec": {
      "name": "python3",
      "display_name": "Python 3"
    },
    "language_info": {
      "name": "python"
    }
  },
  "cells": [
    {
      "cell_type": "markdown",
      "metadata": {
        "id": "view-in-github",
        "colab_type": "text"
      },
      "source": [
        "<a href=\"https://colab.research.google.com/github/TrueBlueDrive/MyWork/blob/main/Algo.ipynb\" target=\"_parent\"><img src=\"https://colab.research.google.com/assets/colab-badge.svg\" alt=\"Open In Colab\"/></a>"
      ]
    },
    {
      "cell_type": "code",
      "execution_count": 2,
      "metadata": {
        "colab": {
          "base_uri": "https://localhost:8080/"
        },
        "id": "IKQMlGnN3qDa",
        "outputId": "cbeefefb-79b1-4882-aab3-c0ec5fb6f2cd"
      },
      "outputs": [
        {
          "output_type": "stream",
          "name": "stdout",
          "text": [
            "Element is present at index  3\n"
          ]
        }
      ],
      "source": [
        "# Python3 Program for recursive binary search.\n",
        "#Binary Search\n",
        "# Returns index of x in arr if present, else -1\n",
        "\n",
        "\n",
        "def binarySearch(arr, l, r, x):\n",
        "\n",
        "\t# Check base case\n",
        "\tif r >= l:\n",
        "\n",
        "\t\tmid = l + (r - l) // 2\n",
        "\n",
        "\t\t# If element is present at the middle itself\n",
        "\t\tif arr[mid] == x:\n",
        "\t\t\treturn mid\n",
        "\n",
        "\t\t# If element is smaller than mid, then it\n",
        "\t\t# can only be present in left subarray\n",
        "\t\telif arr[mid] > x:\n",
        "\t\t\treturn binarySearch(arr, l, mid-1, x)\n",
        "\n",
        "\t\t# Else the element can only be present\n",
        "\t\t# in right subarray\n",
        "\t\telse:\n",
        "\t\t\treturn binarySearch(arr, mid + 1, r, x)\n",
        "\n",
        "\telse:\n",
        "\t\t# Element is not present in the array\n",
        "\t\treturn -1\n",
        "\n",
        "\n",
        "# Driver Code\n",
        "arr = [2, 3, 4, 10, 40]\n",
        "x = 10\n",
        "\n",
        "# Function call\n",
        "result = binarySearch(arr, 0, len(arr)-1, x)\n",
        "\n",
        "if result != -1:\n",
        "\tprint(\"Element is present at index % d\" % result)\n",
        "else:\n",
        "\tprint(\"Element is not present in array\")\n"
      ]
    },
    {
      "cell_type": "code",
      "source": [
        "# Python3 program for Fibonacci search.\n",
        "#Fibonacci Search from bisect import bisect_left\n",
        "\n",
        "# Returns index of x if present, else\n",
        "# returns -1\n",
        "\n",
        "\n",
        "def fibMonaccianSearch(arr, x, n):\n",
        "\n",
        "\t# Initialize fibonacci numbers\n",
        "\tfibMMm2 = 0 # (m-2)'th Fibonacci No.\n",
        "\tfibMMm1 = 1 # (m-1)'th Fibonacci No.\n",
        "\tfibM = fibMMm2 + fibMMm1 # m'th Fibonacci\n",
        "\n",
        "\t# fibM is going to store the smallest\n",
        "\t# Fibonacci Number greater than or equal to n\n",
        "\twhile (fibM < n):\n",
        "\t\tfibMMm2 = fibMMm1\n",
        "\t\tfibMMm1 = fibM\n",
        "\t\tfibM = fibMMm2 + fibMMm1\n",
        "\n",
        "\t# Marks the eliminated range from front\n",
        "\toffset = -1\n",
        "\n",
        "\t# while there are elements to be inspected.\n",
        "\t# Note that we compare arr[fibMm2] with x.\n",
        "\t# When fibM becomes 1, fibMm2 becomes 0\n",
        "\twhile (fibM > 1):\n",
        "\n",
        "\t\t# Check if fibMm2 is a valid location\n",
        "\t\ti = min(offset+fibMMm2, n-1)\n",
        "\n",
        "\t\t# If x is greater than the value at\n",
        "\t\t# index fibMm2, cut the subarray array\n",
        "\t\t# from offset to i\n",
        "\t\tif (arr[i] < x):\n",
        "\t\t\tfibM = fibMMm1\n",
        "\t\t\tfibMMm1 = fibMMm2\n",
        "\t\t\tfibMMm2 = fibM - fibMMm1\n",
        "\t\t\toffset = i\n",
        "\n",
        "\t\t# If x is less than the value at\n",
        "\t\t# index fibMm2, cut the subarray\n",
        "\t\t# after i+1\n",
        "\t\telif (arr[i] > x):\n",
        "\t\t\tfibM = fibMMm2\n",
        "\t\t\tfibMMm1 = fibMMm1 - fibMMm2\n",
        "\t\t\tfibMMm2 = fibM - fibMMm1\n",
        "\n",
        "\t\t# element found. return index\n",
        "\t\telse:\n",
        "\t\t\treturn i\n",
        "\n",
        "\t# comparing the last element with x */\n",
        "\tif(fibMMm1 and arr[n-1] == x):\n",
        "\t\treturn n-1\n",
        "\n",
        "\t# element not found. return -1\n",
        "\treturn -1\n",
        "\n",
        "\n",
        "# Driver Code\n",
        "arr = [10, 22, 35, 40, 45, 50,\n",
        "\t80, 82, 85, 90, 100,235]\n",
        "n = len(arr)\n",
        "x = 235\n",
        "ind = fibMonaccianSearch(arr, x, n)\n",
        "if ind>=0:\n",
        "print(\"Found at index:\",ind)\n",
        "else:\n",
        "print(x,\"isn't present in the array\");\n",
        "\n",
        "\n"
      ],
      "metadata": {
        "colab": {
          "base_uri": "https://localhost:8080/",
          "height": 130
        },
        "id": "9-4KKZxc5c72",
        "outputId": "7e34f976-0744-45d8-93c2-07ae3dff530c"
      },
      "execution_count": 3,
      "outputs": [
        {
          "output_type": "error",
          "ename": "IndentationError",
          "evalue": "ignored",
          "traceback": [
            "\u001b[0;36m  File \u001b[0;32m\"<ipython-input-3-d917191d4fbf>\"\u001b[0;36m, line \u001b[0;32m69\u001b[0m\n\u001b[0;31m    print(\"Found at index:\",ind)\u001b[0m\n\u001b[0m        ^\u001b[0m\n\u001b[0;31mIndentationError\u001b[0m\u001b[0;31m:\u001b[0m expected an indented block\n"
          ]
        }
      ]
    },
    {
      "cell_type": "code",
      "source": [
        "# Python program for implementation of Bubble Sort\n",
        "\n",
        "def bubbleSort(arr):\n",
        "\tn = len(arr)\n",
        "\n",
        "\t# Traverse through all array elements\n",
        "\tfor i in range(n):\n",
        "\n",
        "\t\t# Last i elements are already in place\n",
        "\t\tfor j in range(0, n-i-1):\n",
        "\n",
        "\t\t\t# traverse the array from 0 to n-i-1\n",
        "\t\t\t# Swap if the element found is greater\n",
        "\t\t\t# than the next element\n",
        "\t\t\tif arr[j] > arr[j+1] :\n",
        "\t\t\t\tarr[j], arr[j+1] = arr[j+1], arr[j]\n",
        "\n",
        "\n",
        "# Driver code to test above\n",
        "arr = [64, 34, 25, 12, 22, 11, 90]\n",
        "\n",
        "bubbleSort(arr)\n",
        "\n",
        "print (\"Sorted array is:\")\n",
        "for i in range(len(arr)):\n",
        "\tprint (\"%d\" %arr[i]),\n"
      ],
      "metadata": {
        "colab": {
          "base_uri": "https://localhost:8080/"
        },
        "id": "8l3LBJ_p5rQd",
        "outputId": "87b7211a-1c7a-4436-cb7e-c6692998b0c8"
      },
      "execution_count": 12,
      "outputs": [
        {
          "output_type": "stream",
          "name": "stdout",
          "text": [
            "Sorted array is:\n",
            "11\n",
            "12\n",
            "22\n",
            "25\n",
            "34\n",
            "64\n",
            "90\n"
          ]
        }
      ]
    },
    {
      "cell_type": "code",
      "source": [
        "# Python program for implementation of Insertion Sort\n",
        "\n",
        "# Function to do insertion sort\n",
        "def insertionSort(arr):\n",
        "\n",
        "\t# Traverse through 1 to len(arr)\n",
        "\tfor i in range(1, len(arr)):\n",
        "\n",
        "\t\tkey = arr[i]\n",
        "\n",
        "\t\t# Move elements of arr[0..i-1], that are\n",
        "\t\t# greater than key, to one position ahead\n",
        "\t\t# of their current position\n",
        "\t\tj = i-1\n",
        "\t\twhile j >= 0 and key < arr[j] :\n",
        "\t\t\t\tarr[j + 1] = arr[j]\n",
        "\t\t\t\tj -= 1\n",
        "\t\tarr[j + 1] = key\n",
        "\n",
        "\n",
        "# Driver code to test above\n",
        "arr = [12, 11, 13, 5, 6]\n",
        "insertionSort(arr)\n",
        "for i in range(len(arr)):\n",
        "\tprint (\"% d\" % arr[i])\n",
        "\n"
      ],
      "metadata": {
        "colab": {
          "base_uri": "https://localhost:8080/"
        },
        "id": "s5ZLbTpJ7O2n",
        "outputId": "fdaee2e7-2ca2-4fae-943f-39e8a9eb2be2"
      },
      "execution_count": 13,
      "outputs": [
        {
          "output_type": "stream",
          "name": "stdout",
          "text": [
            " 5\n",
            " 6\n",
            " 11\n",
            " 12\n",
            " 13\n"
          ]
        }
      ]
    },
    {
      "cell_type": "code",
      "source": [
        "# Python program for implementation of MergeSort\n",
        "def mergeSort(arr):\n",
        "\tif len(arr) > 1:\n",
        "\n",
        "\t\t# Finding the mid of the array\n",
        "\t\tmid = len(arr)//2\n",
        "\n",
        "\t\t# Dividing the array elements\n",
        "\t\tL = arr[:mid]\n",
        "\n",
        "\t\t# into 2 halves\n",
        "\t\tR = arr[mid:]\n",
        "\n",
        "\t\t# Sorting the first half\n",
        "\t\tmergeSort(L)\n",
        "\n",
        "\t\t# Sorting the second half\n",
        "\t\tmergeSort(R)\n",
        "\n",
        "\t\ti = j = k = 0\n",
        "\n",
        "\t\t# Copy data to temp arrays L[] and R[]\n",
        "\t\twhile i < len(L) and j < len(R):\n",
        "\t\t\tif L[i] < R[j]:\n",
        "\t\t\t\tarr[k] = L[i]\n",
        "\t\t\t\ti += 1\n",
        "\t\t\telse:\n",
        "\t\t\t\tarr[k] = R[j]\n",
        "\t\t\t\tj += 1\n",
        "\t\t\tk += 1\n",
        "\n",
        "\t\t# Checking if any element was left\n",
        "\t\twhile i < len(L):\n",
        "\t\t\tarr[k] = L[i]\n",
        "\t\t\ti += 1\n",
        "\t\t\tk += 1\n",
        "\n",
        "\t\twhile j < len(R):\n",
        "\t\t\tarr[k] = R[j]\n",
        "\t\t\tj += 1\n",
        "\t\t\tk += 1\n",
        "\n",
        "# Code to print the list\n",
        "\n",
        "\n",
        "def printList(arr):\n",
        "\tfor i in range(len(arr)):\n",
        "\t\tprint(arr[i], end=\" \")\n",
        "\tprint()\n",
        "\n",
        "\n",
        "# Driver Code\n",
        "if __name__ == '__main__':\n",
        "\tarr = [12, 11, 13, 5, 6, 7]\n",
        "\tprint(\"Given array is\", end=\"\\n\")\n",
        "\tprintList(arr)\n",
        "\tmergeSort(arr)\n",
        "\tprint(\"Sorted array is: \", end=\"\\n\")\n",
        "\tprintList(arr)\n",
        "\n"
      ],
      "metadata": {
        "id": "zlJFxbOH7rQm"
      },
      "execution_count": null,
      "outputs": []
    },
    {
      "cell_type": "code",
      "source": [
        "#Linear Search\n",
        "# Python3 code to linearly search x in arr[].\n",
        "# If x is present then return its location,\n",
        "# otherwise return -1\n",
        "\n",
        "\n",
        "def search(arr, n, x):\n",
        "\n",
        "\tfor i in range(0, n):\n",
        "\t\tif (arr[i] == x):\n",
        "\t\t\treturn i\n",
        "\treturn -1\n",
        "\n",
        "\n",
        "# Driver Code\n",
        "arr = [2, 3, 4, 10, 40]\n",
        "x = 10\n",
        "n = len(arr)\n",
        "\n",
        "# Function call\n",
        "result = search(arr, n, x)\n",
        "if(result == -1):\n",
        "\tprint(\"Element is not present in array\")\n",
        "else:\n",
        "\tprint(\"Element is present at index\", result)\n"
      ],
      "metadata": {
        "id": "tnEY1JVt4uI2"
      },
      "execution_count": null,
      "outputs": []
    },
    {
      "cell_type": "code",
      "source": [
        ""
      ],
      "metadata": {
        "id": "TMDofZQd47tD"
      },
      "execution_count": null,
      "outputs": []
    }
  ]
}